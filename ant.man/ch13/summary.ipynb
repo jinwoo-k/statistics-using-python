{
 "cells": [
  {
   "cell_type": "markdown",
   "metadata": {
    "collapsed": true,
    "pycharm": {
     "name": "#%% md\n"
    }
   },
   "source": [
    "# ch 13. 회귀 분석\n",
    "## 13.1 서론\n",
    "1) 변수들은 서로 관련이 있는가?\n",
    "\n",
    "2) 얼마나 밀접하게 관련?\n",
    "\n",
    "3) 다른 변수의 값으로부터 예측 가능?\n",
    "\n",
    "## 13.2 단순선형회귀모형\n",
    "* 단순선형회귀모형(simple linear regression model): 두 변수의 관계가 직선\n",
    " * 독립변수(independent variable), 설명변수(explanatory variable): 실험하는 사람에 의해 통제되어 독립적으로 주어짐\n",
    " * 종속변수(dependent variable), 반응변수(response variable): 독립변수와 오차에 의해 결정됨\n",
    "\n",
    "* 정의: 단순선형회귀모형\n",
    "    * $Y_i = \\beta_0+\\beta_1x_1+\\epsilon_i$ ..\n",
    "        1. $\\beta_0$와 $\\beta_1$는 직선식을 결정하는 미지의 회귀모수\n",
    "        2. 오차들은 서로 독립이며, 평균이 0, 분산이 $\\delta^2$인 정규분포를 따르는 확률변수\n",
    "        3. $Y_i$는 독립변수를 $x_i$로 고정시켰을 때의 종속변수의 값\n",
    "\n",
    "* $Yi : \\ N(\\beta_0 + \\beta_1x_i,\\ \\delta^2)$\n",
    "\n",
    "![\"잔차\"](images/lsm_e.png)\n",
    "![\"확률변수\"](images/lsm_v.png)\n",
    "![\"lsm 직선\"](images/lsm_line.gif)\n",
    "\n",
    "## 13.3 최소제곱추정법\n",
    "* 최소제곱추정법(least squares method): 편차의 제곱합을 최소화하는 모수의 값을 찾아 모수의 추정값으로 사용하는 방법\n",
    "    * 편차제곱합 $D = \\sum_{i=1}^n{d_i^2} = \\sum_{i=1}^n{(y_i-(b_0+b_ix_i))^2}$ \n",
    "    * 추정직선이 자료의 직선관계를 얼마나 잘 추정하는 가\n",
    "    * 추정직선: $\\widehat{y}=\\widehat{\\beta_0}+\\widehat{\\beta_1}x$\n",
    "\n",
    "* 잔차제곱합 (SSE) -> 오차의 분산 $\\delta^2$의 추정량 (MSE, mean squared error) : SSE/(n-2)\n",
    "* 증명 (수식): http://statnmath.blogspot.com/2015/01/estimation-for-slr-least-squares-method.html\n",
    "* 증명 (영상): https://statnmath.tistory.com/40\n",
    "\n",
    "## 13.4 단순선형회귀모형에서의 추론  \n",
    "* $Y_i = \\beta_0+\\beta_1x_i+\\epsilon_i$ 에서 오차들의 평균은 0 이고 분산 $\\delta^2$인 정규분포를 따르고 서로 독립이라 가정할때, 추정회귀 직선 ($\\widehat{y}=\\widehat{\\beta_0}+\\widehat{\\beta_1}x$)은 편차의 제곱합을 최소로하는 모수를 선택해 얻음 \n",
    "    1. 기울기/편차에 대한 추정치를 계산했는데 실제와 얼마나 차이날지? (+ 기울기가 0 이면 전혀 영향이 없음)\n",
    "    2. x값이 주어졌을때, 오차는 어느정도?\n",
    "\n",
    "* 기울기 ($\\beta_1$)에 대한 추론\n",
    "    * 0인지에 대한 귀무가설에 기각유무에 초점이 맞춰짐 (-> x, y 간에 관계가 없기 떄문에 x를 통해 y 예측 못함)\n",
    "    1. 두 변수에 직선관계가 존재하지만 충분한 x가 없을때..\n",
    "    2. 곡선관계일때.. (-> 산점도를 통해) \n",
    "* 절편 ($\\beta_0$)에 대한 추론\n",
    "    * 신뢰구간 확인 시, 절편인점을 감안해 x=0일때를 확인하면 계산없이 바로 확인 가능\n",
    "* 평균 반응 ($\\beta_0+\\beta_1x_*$)에 대한 추론\n",
    "    * 자료의 범위를 크게 벗어나는 독립변수의 값에 대한 평균반응은 더 많은 자료를 포함시켜 독립변수 값을 그 값에 가깝도록 해야 함\n",
    "* 반응변수값 Y 의 예측\n",
    "    * 평균이 아닌 하나의 반응값에 대한 추론 -> 평균반응값에 오차를 더한값에 대한 예측 문제 (오차의 분산에 영향)\n",
    "\n",
    "## 13.5 선형관계의 강도\n",
    "* 관측된 종속변수값 ($y_i$) = 선형관계로 설명되는부분 ($\\widehat{y_i}$) + 선형관계로 설명되지 않는 부분 ($\\epsilon_i$)\n",
    "* SST (Y의 총변동, $S_{yy}$) = SSR (선형관계로 설명되는 변동, $\\frac{S_{xy}^2}{S_{xx}}$) + SSE (선형관계로 설명되지 않는 변동, $S_{yy}-\\frac{S_{xy}^2}{S_{xx}}$)\n",
    "* 결정계수: 선형모형이 어느정도 적합한가의 측도 (0에 가까울수록 직선관계로 나타내는게 적절하지 않음) \n",
    "    * $R^2=\\frac{SSR}{SST}=\\frac{S_{xy}^2}{S_{xx}S_{yy}} = 1-\\frac{SSE}{SST}$\n",
    "    * 0~1값, 1에 가까울수록 SST 에서 SSR (회귀제곱합) 이 차지하는 부분이 크므로 선형회귀모형이 관측결과를 잘 설명\n",
    "\n",
    "## 13.6 잔차의 검토\n",
    "* 오차에 대한 가정\n",
    "    * $\\epsilon_i$ 평균은 0 이다 \n",
    "    * $\\epsilon_i$들은 서로 독립 (독립성)\n",
    "    * $\\epsilon_i$의 분산은 $\\delta^2$ (등분산성)\n",
    "    * $\\epsilon_i$는 정규분포 N(0, $\\delta^2$)를 따른다 (정규성)\n",
    "\n",
    "* 잔차와 예측값 산점도 : 잘 흝어져 있어야 함\n",
    "* 잔차와 독립변수 산점도 : 잘 흝어져 있어야 함 \n",
    "* 오차의 정규성 검정 : 실제로 정규분포인지 파악 (정규확률 그림에서 직선에 가깝게)\n",
    "* 오차의 독립성 검정 : 오차가 서로 독립인지,, 추출단위가 독립이 되도록 실험\n",
    "\n",
    "## 번외\n",
    "OSL : https://datascienceschool.net/view-notebook/58269d7f52bd49879965cdc4721da42d/"
   ]
  },
  {
   "cell_type": "code",
   "execution_count": 2,
   "metadata": {
    "pycharm": {
     "name": "#%%\n"
    }
   },
   "outputs": [
    {
     "name": "stdout",
     "output_type": "stream",
     "text": [
      "                            OLS Regression Results                            \n",
      "==============================================================================\n",
      "Dep. Variable:                 weight   R-squared:                       0.542\n",
      "Model:                            OLS   Adj. R-squared:                  0.533\n",
      "Method:                 Least Squares   F-statistic:                     58.01\n",
      "Date:                Fri, 13 Dec 2019   Prob (F-statistic):           7.40e-10\n",
      "Time:                        12:37:50   Log-Likelihood:                -168.30\n",
      "No. Observations:                  51   AIC:                             340.6\n",
      "Df Residuals:                      49   BIC:                             344.5\n",
      "Df Model:                           1                                         \n",
      "Covariance Type:            nonrobust                                         \n",
      "==============================================================================\n",
      "                 coef    std err          t      P>|t|      [0.025      0.975]\n",
      "------------------------------------------------------------------------------\n",
      "Intercept   -100.7820     20.912     -4.819      0.000    -142.806     -58.758\n",
      "height         0.9479      0.124      7.616      0.000       0.698       1.198\n",
      "==============================================================================\n",
      "Omnibus:                        5.480   Durbin-Watson:                   2.220\n",
      "Prob(Omnibus):                  0.065   Jarque-Bera (JB):                4.425\n",
      "Skew:                           0.569   Prob(JB):                        0.109\n",
      "Kurtosis:                       3.886   Cond. No.                     3.75e+03\n",
      "==============================================================================\n",
      "\n",
      "Warnings:\n",
      "[1] Standard Errors assume that the covariance matrix of the errors is correctly specified.\n",
      "[2] The condition number is large, 3.75e+03. This might indicate that there are\n",
      "strong multicollinearity or other numerical problems.\n"
     ]
    },
    {
     "data": {
      "image/png": "[encoded data removed]",
      "text/plain": [
       "<Figure size 432x288 with 3 Axes>"
      ]
     },
     "metadata": {
      "needs_background": "light"
     },
     "output_type": "display_data"
    }
   ],
   "source": [
    "import numpy as np\n",
    "height = np.array([181, 161, 170, 160, 158, 168, 162, 179, 183, 178,\n",
    "                   171, 177, 163, 158, 160, 160, 158, 173, 160, 163,\n",
    "                   167, 165, 163, 173, 178, 170, 167, 177, 175, 169,\n",
    "                   152, 158, 160, 160, 159, 180, 169, 162, 178, 173,\n",
    "                   173, 171, 171, 170, 160, 167, 168, 166, 164, 173,\n",
    "                   180])\n",
    "weight = np.array([78, 49, 52, 53, 50, 57, 53, 54, 71, 73,\n",
    "                   55, 73, 51, 53, 65, 48, 59, 64, 48, 53,\n",
    "                   78, 45, 56, 70, 68, 59, 55, 64, 59, 55,\n",
    "                   38, 45, 50, 46, 50, 63, 71, 52, 74, 52,\n",
    "                   61, 65, 68, 57, 47, 48, 58, 59, 55, 74,\n",
    "                   74])\n",
    "\n",
    "# 회귀분석 및 결과(13장_그림13)\n",
    "import pandas as pd\n",
    "import statsmodels.formula.api as smf\n",
    "d = {'height' : height, 'weight' : weight}\n",
    "dat = pd.DataFrame(data = d)\n",
    "fit = smf.ols('weight ~ height', data=dat).fit()\n",
    "print(fit.summary())\n",
    "\n",
    "# 회귀계수의 신뢰구간(13장_그림14)\n",
    "fit.conf_int(0.05)\n",
    "# 잔차도, 적합도, 잔차 정규확률도(13장_그림16)\n",
    "\n",
    "import numpy as np\n",
    "import matplotlib.pyplot as plt\n",
    "from statsmodels import regression\n",
    "from scipy import stats\n",
    "import pylab\n",
    "from matplotlib import font_manager, rc, rcParams\n",
    "# font_name = font_manager.FontProperties(fname = 'C:/Windows/Fonts/malgun.ttf').get_name()\n",
    "# rc('font', family = font_name, size = 10)\n",
    "rcParams['axes.unicode_minus'] = False\n",
    "plt.subplot(2,2,1)\n",
    "slope, intercept = np.polyfit(height, weight, 1)\n",
    "abline_values = [slope * i + intercept for i in height]\n",
    "plt.plot(height, weight, 'o')\n",
    "plt.plot(height, abline_values, 'b')\n",
    "plt.title('height line of fit')\n",
    "plt.xlabel('height')\n",
    "plt.ylabel('weight')\n",
    "plt.tight_layout()\n",
    "plt.subplot(2,2,2)\n",
    "r = regression.linear_model.RegressionResults.resid(fit)\n",
    "plt.plot(height, r, 'o')\n",
    "plt.title('height Residual degree')\n",
    "plt.xlabel('height')\n",
    "plt.ylabel('weight')\n",
    "plt.tight_layout()\n",
    "plt.subplot(2,2,3)\n",
    "stats.probplot(r, dist = 'norm', plot = pylab)\n",
    "plt.title('Residual normal probability plot')\n",
    "plt.xlabel('Theoretical Quantiles')\n",
    "plt.ylabel('Sample Quantiles')\n",
    "plt.tight_layout()\n",
    "\n"
   ]
  },
  {
   "cell_type": "code",
   "execution_count": null,
   "metadata": {},
   "outputs": [],
   "source": []
  }
 ],
 "metadata": {
  "kernelspec": {
   "display_name": "Python 3",
   "language": "python",
   "name": "python3"
  },
  "language_info": {
   "codemirror_mode": {
    "name": "ipython",
    "version": 3
   },
   "file_extension": ".py",
   "mimetype": "text/x-python",
   "name": "python",
   "nbconvert_exporter": "python",
   "pygments_lexer": "ipython3",
   "version": "3.6.5"
  },
  "pycharm": {
   "stem_cell": {
    "cell_type": "raw",
    "metadata": {
     "collapsed": false
    },
    "source": []
   }
  }
 },
 "nbformat": 4,
 "nbformat_minor": 1
}
