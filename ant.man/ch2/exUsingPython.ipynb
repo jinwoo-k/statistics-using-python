{
 "cells": [
  {
   "cell_type": "code",
   "execution_count": 14,
   "metadata": {
    "collapsed": true,
    "pycharm": {
     "is_executing": false
    }
   },
   "outputs": [],
   "source": [
    "import numpy as np\n",
    "death = np.array([2, 1, 2, 4, 2, 5, 3, 3, 5, 6, 3, 8, 3,\n",
    "                  3, 6, 3, 6, 5, 3, 5, 2, 6, 2, 3, 4, 3,\n",
    "                  2, 9, 2, 2, 3, 2, 7, 3, 2, 10, 6, 2, 3,\n",
    "                  1, 2, 3, 3, 4, 3, 2, 6, 2, 2, 3, 2, 3,\n",
    "                  4, 3, 2, 3, 5, 2, 5, 5, 3, 4, 3, 6, 2,\n",
    "                  1, 2, 3, 2, 6, 3, 3, 6, 3, 2, 3, 6, 4,\n",
    "                  6, 5, 3, 5, 6, 2, 6, 3, 2, 3, 2, 6, 2,\n",
    "                  6, 3, 3, 2, 6, 9, 6, 3, 6, 6, 2, 3, 2,\n",
    "                  3, 5, 3, 5, 2, 3, 2, 3, 3, 1, 3, 3, 2,\n",
    "                  3, 3, 4, 3, 6, 6, 3, 3, 3, 2, 3, 3, 6])\n"
   ]
  },
  {
   "cell_type": "code",
   "execution_count": 15,
   "outputs": [
    {
     "name": "stdout",
     "text": [
      "질병   도수\n감염    4\n각종암  33\n순환기  48\n호흡기   7\n소화기  11\n사고사  22\n비뇨기   1\n정신병   1\n노환    2\n신경계   1\n"
     ],
     "output_type": "stream"
    }
   ],
   "source": [
    "#------------ frequency table --------------------\n",
    "import pandas as pd\n",
    "\n",
    "table = pd.crosstab(index = death , colnames = [\"질병\"], columns = '도수')\n",
    "table.index = [\"감염\",\"각종암\",\"순환기\",\"호흡기\",\"소화기\",\n",
    "               \"사고사\",\"비뇨기\",\"정신병\",\"노환\",\"신경계\"]\n",
    "print(table)"
   ],
   "metadata": {
    "collapsed": false,
    "pycharm": {
     "name": "#%%\n",
     "is_executing": false
    }
   }
  },
  {
   "cell_type": "code",
   "execution_count": 16,
   "outputs": [
    {
     "name": "stdout",
     "text": [
      "버전:  3.0.2\n설치 위치:  /anaconda3/lib/python3.6/site-packages/matplotlib/__init__.py\n설정 위치:  /Users/ant.man/.matplotlib\n캐시 위치:  /Users/ant.man/.matplotlib\n"
     ],
     "output_type": "stream"
    }
   ],
   "source": [
    "# 한글 설정\n",
    "import matplotlib as mpl\n",
    "from matplotlib import font_manager, rc\n",
    "import matplotlib\n",
    "import matplotlib.font_manager as fm\n",
    "\n",
    "print ('버전: ', mpl.__version__)\n",
    "print ('설치 위치: ', mpl.__file__)\n",
    "print ('설정 위치: ', mpl.get_configdir())\n",
    "print ('캐시 위치: ', mpl.get_cachedir())\n",
    "\n",
    "[f.name for f in fm.fontManager.ttflist if 'mal' in f.name]\n",
    "\n",
    "font_dirs = ['/Library/Fonts', ]\n",
    "font_files = fm.findSystemFonts(fontpaths=font_dirs)\n",
    "font_list = fm.createFontList(font_files)\n",
    "fm.fontManager.ttflist.extend(font_list)\n",
    "\n",
    "rc('font',family ='AppleGothic')"
   ],
   "metadata": {
    "collapsed": false,
    "pycharm": {
     "name": "#%%\n",
     "is_executing": false
    }
   }
  },
  {
   "cell_type": "code",
   "execution_count": 17,
   "outputs": [
    {
     "data": {
      "text/plain": "<Figure size 432x288 with 0 Axes>"
     },
     "metadata": {},
     "output_type": "display_data"
    },
    {
     "data": {
      "text/plain": "<Figure size 432x288 with 1 Axes>",
      "image/png": "[encoded data removed]"
     },
     "metadata": {
      "needs_background": "light"
     },
     "output_type": "display_data"
    }
   ],
   "source": [
    "# 막대 그래프\n",
    "import matplotlib.pyplot as plt\n",
    "\n",
    "plt.figure()\n",
    "table.plot(kind='bar',legend=False)\n",
    "plt.xlabel('사망원인')\n",
    "plt.ylabel(\"빈도수\")\n",
    "plt.title(\"사망원인에 따른 막대그래프\")\n",
    "plt.xticks(rotation=360)\n",
    "plt.show()\n",
    "\n",
    "# plt.savefig('./plot/그림18.png') # 그림 저장"
   ],
   "metadata": {
    "collapsed": false,
    "pycharm": {
     "name": "#%%\n",
     "is_executing": false
    }
   }
  },
  {
   "cell_type": "code",
   "execution_count": 18,
   "outputs": [
    {
     "data": {
      "text/plain": "<Figure size 432x288 with 0 Axes>"
     },
     "metadata": {},
     "output_type": "display_data"
    },
    {
     "data": {
      "text/plain": "<Figure size 432x288 with 1 Axes>",
      "image/png": "[encoded data removed]"
     },
     "metadata": {
      "needs_background": "light"
     },
     "output_type": "display_data"
    }
   ],
   "source": [
    "#import matplotlib.patches as mpatches\n",
    "#import matplotlib.cm\n",
    "#cause1 = mpatches.Patch(color='b', label=table.index[0])\n",
    "#cause2 = mpatches.Patch(color='g', label=table.index[1])\n",
    "#cause3 = mpatches.Patch(color='r', label=table.index[2])\n",
    "#cause4 = mpatches.Patch(color='c', label=table.index[3])\n",
    "#cause5 = mpatches.Patch(color='m', label=table.index[4])\n",
    "#cause6 = mpatches.Patch(color='y', label=table.index[5])\n",
    "#cause7 = mpatches.Patch(color='k', label=table.index[6])\n",
    "#cause8 = mpatches.Patch(color='b', label=table.index[7])\n",
    "#cause9 = mpatches.Patch(color='g', label=table.index[8])\n",
    "#cause10 = mpatches.Patch(color='r', label=table.index[9])\n",
    "\n",
    "import matplotlib.pyplot as plt\n",
    "\n",
    "plt.figure()\n",
    "colors = 'bgrcmyk'\n",
    "table.plot(kind='bar',color=colors)\n",
    "plt.xlabel('사망원인')\n",
    "plt.ylabel(\"빈도수\")\n",
    "plt.title(\"사망원인에 따른 막대그래프\")\n",
    "plt.xticks(rotation=360)\n",
    "plt.show()\n",
    "\n",
    "# plt.savefig('./plot/그림20.png') # 그림 저장"
   ],
   "metadata": {
    "collapsed": false,
    "pycharm": {
     "name": "#%%\n",
     "is_executing": false
    }
   }
  },
  {
   "cell_type": "code",
   "execution_count": 19,
   "outputs": [
    {
     "data": {
      "text/plain": "<Figure size 432x288 with 1 Axes>",
      "image/png": "[encoded data removed]"
     },
     "metadata": {},
     "output_type": "display_data"
    }
   ],
   "source": [
    "#------------ pie plot --------------------\n",
    "import matplotlib.pyplot as plt\n",
    "\n",
    "plt.figure()\n",
    "index = [\"감염\",\"각종암\",\"순환기\",\"호흡기\",\"소화기\",\n",
    "         \"사고사\",\"비뇨기\",\"정신병\",\"노환\",\"신경계\"]\n",
    "plt.pie(table['도수'],labels=index)\n",
    "plt.rc('font', size=8) # 그래프 글자 크기\n",
    "plt.title(\"사망원인에 대한 원형 그래프\")\n",
    "plt.show()\n",
    "\n",
    "# plt.savefig('./plot/그림21.png')"
   ],
   "metadata": {
    "collapsed": false,
    "pycharm": {
     "name": "#%%\n",
     "is_executing": false
    }
   }
  },
  {
   "cell_type": "code",
   "execution_count": 21,
   "outputs": [
    {
     "data": {
      "text/plain": "<Figure size 432x288 with 0 Axes>"
     },
     "metadata": {},
     "output_type": "display_data"
    },
    {
     "data": {
      "text/plain": "<Figure size 432x288 with 2 Axes>",
      "image/png": "[encoded data removed]"
     },
     "metadata": {
      "needs_background": "light"
     },
     "output_type": "display_data"
    }
   ],
   "source": [
    "#------------ preto plot --------------------\n",
    "# 한글 입력\n",
    "from matplotlib import font_manager, rc\n",
    "\n",
    "# font_name = font_manager.FontProperties(fname=\"C:/Windows/Fonts/malgun.ttf\").get_name()\n",
    "# rc('font',family =font_name)\n",
    "\n",
    "from paretochart import pareto\n",
    "import matplotlib.patches as mpatches # 범례 만들기 위한 모듈\n",
    "\n",
    "plt.figure()\n",
    "fig, ax = plt.subplots() # subplot 생성\n",
    "ax.paretoplot = pareto(table['도수'], line_args=('black',),labels=index )\n",
    "p_legend = mpatches.Patch(color='black', label='누적상대도수') #범례1\n",
    "p_legend1 = mpatches.Patch(color='blue', label='빈도수') #법례2\n",
    "plt.legend(handles=[p_legend,p_legend1],loc='center right') #범례 표시\n",
    "\n",
    "plt.title(\"사망원인\") #제목\n",
    "plt.xlabel(\"질병종류\") #x축\n",
    "ax.set_ylabel(\"Frequency\") #왼쪽 y축\n",
    "plt.ylabel('cumulative percentage') #오른쪽 y축\n",
    "plt.rc('font', size=6) #그래프 글자크기 조절\n",
    "plt.show()\n",
    "\n",
    "# plt.savefig('./plot/그림22.png')\n"
   ],
   "metadata": {
    "collapsed": false,
    "pycharm": {
     "name": "#%%\n",
     "is_executing": false
    }
   }
  },
  {
   "cell_type": "code",
   "execution_count": 22,
   "outputs": [],
   "source": [
    "#------------ data input --------------------\n",
    "import numpy as np\n",
    "drink = np.array([101.8, 101.5, 101.8, 102.6, 101, 96.8, 102.4, 100, 98.8, 98.1,\n",
    "                  98.8, 98, 99.4,95.5, 100.1, 100.5, 97.4, 100.2, 101.4, 98.7,\n",
    "                  101.4, 99.4, 101.7, 99, 99.7, 98.9, 99.5, 100, 99.7, 100.9,\n",
    "                  99.7, 99, 98.8, 99.7, 100.9, 99.9, 97.5, 101.5, 98.2, 99.2,\n",
    "                  98.6, 101.4, 102.1, 102.9, 100.8, 99.4, 103.7, 100.3, 100.2, 101.1,\n",
    "                  101.8, 100, 101.2, 100.5, 101.2, 101.6, 99.9, 100.5, 100.4, 98.1,\n",
    "                  100.1, 101.6, 99.3, 96.1, 100, 99.7, 99.7, 99.4, 101.5, 100.9,\n",
    "                  101.3, 99.9, 99.1, 100.7, 100.8, 100.8, 101.4, 100.3, 98.4, 97.2])\n",
    "\n",
    "\n"
   ],
   "metadata": {
    "collapsed": false,
    "pycharm": {
     "name": "#%%\n",
     "is_executing": false
    }
   }
  },
  {
   "cell_type": "code",
   "execution_count": 23,
   "outputs": [
    {
     "data": {
      "text/plain": "<Figure size 432x288 with 1 Axes>",
      "image/png": "[encoded data removed]"
     },
     "metadata": {
      "needs_background": "light"
     },
     "output_type": "display_data"
    },
    {
     "data": {
      "text/plain": "<matplotlib.axes._subplots.AxesSubplot at 0x114e42940>"
     },
     "metadata": {},
     "output_type": "execute_result",
     "execution_count": 23
    },
    {
     "data": {
      "text/plain": "<Figure size 432x288 with 1 Axes>",
      "image/png": "[encoded data removed]"
     },
     "metadata": {
      "needs_background": "light"
     },
     "output_type": "display_data"
    }
   ],
   "source": [
    "# 히스토그램\n",
    "\n",
    "import matplotlib.pyplot as plt\n",
    "\n",
    "plt.figure()\n",
    "n, bins, patches = plt.hist(drink, bins = 10, facecolor=\"blue\", alpha = 0.3)\n",
    "x = [(bins[i]+bins[i+1])/2 for i in range(len(bins)-1)]\n",
    "w_bin = bins[1]-bins[0]\n",
    "x.insert(0,x[0]-w_bin)\n",
    "x.append(x[-1]+w_bin)\n",
    "n = np.insert(n,0,0.0)\n",
    "n = np.append(n,0.0)\n",
    "plt.xlabel('drink')\n",
    "plt.ylabel('Frequency')\n",
    "plt.title(\"Histogram of drink\")\n",
    "plt.plot(x,n,'blue',marker='o')\n",
    "plt.show()\n",
    "\n",
    "\n",
    "\n",
    "\n",
    "# plt.savefig('./plot/그림26.png')\n",
    "\n",
    "\n",
    "\n",
    "plt.subplot(2,1,1)\n",
    "\n"
   ],
   "metadata": {
    "collapsed": false,
    "pycharm": {
     "name": "#%%\n",
     "is_executing": false
    }
   }
  }
 ],
 "metadata": {
  "language_info": {
   "codemirror_mode": {
    "name": "ipython",
    "version": 2
   },
   "file_extension": ".py",
   "mimetype": "text/x-python",
   "name": "python",
   "nbconvert_exporter": "python",
   "pygments_lexer": "ipython2",
   "version": "2.7.6"
  },
  "kernelspec": {
   "name": "python3",
   "language": "python",
   "display_name": "Python 3"
  },
  "pycharm": {
   "stem_cell": {
    "cell_type": "raw",
    "source": [],
    "metadata": {
     "collapsed": false
    }
   }
  }
 },
 "nbformat": 4,
 "nbformat_minor": 0
}