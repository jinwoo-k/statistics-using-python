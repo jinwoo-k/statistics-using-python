{
 "cells": [
  {
   "cell_type": "code",
   "execution_count": 11,
   "metadata": {
    "scrolled": true
   },
   "outputs": [
    {
     "name": "stdout",
     "output_type": "stream",
     "text": [
      "count: 80\n",
      "mean: 100.04125\n",
      "median: 100.05\n",
      "per: [ 95.5    99.175 100.05  101.2   103.7  ]\n",
      "var: 2.287173437500001\n",
      "std: 1.5123403841397614\n",
      "min: 95.5 ,max: 103.7\n",
      "range: 8.200000000000003\n",
      "101.2 99.17500000000001\n",
      "IQR: 2.0249999999999915\n",
      "[ 98.1  101.71]\n",
      " ---- pandas summary --- \n",
      "                0\n",
      "count   80.000000\n",
      "mean   100.041250\n",
      "std      1.521882\n",
      "min     95.500000\n",
      "25%     99.175000\n",
      "50%    100.050000\n",
      "75%    101.200000\n",
      "max    103.700000\n",
      "길이     : 80 \n",
      " 평균     : 100.04125 \n",
      " 분산     : 2.287173437500001 \n",
      " 표준편차 : 1.5123403841397614 \n",
      " 중앙값   : 100.05 \n",
      " 최댓값   : 103.7 \n",
      " 최솟값   : 95.5 \n",
      " 제1사분위수 : 99.17500000000001 \n",
      " 제2사분위수 : 100.05 \n",
      " 제3사분위수 : 101.2 \n",
      " 사분위수범위 : 2.0249999999999915 \n",
      "\n"
     ]
    }
   ],
   "source": [
    "#------------ descriptive summary --------------------\n",
    "import numpy as np\n",
    "\n",
    "drink = np.array([101.8, 101.5, 101.8, 102.6, 101, 96.8, 102.4, 100, 98.8, 98.1,\n",
    "                  98.8, 98, 99.4,95.5, 100.1, 100.5, 97.4, 100.2, 101.4, 98.7,\n",
    "                  101.4, 99.4, 101.7, 99, 99.7, 98.9, 99.5, 100, 99.7, 100.9,\n",
    "                  99.7, 99, 98.8, 99.7, 100.9, 99.9, 97.5, 101.5, 98.2, 99.2,\n",
    "                  98.6, 101.4, 102.1, 102.9, 100.8, 99.4, 103.7, 100.3, 100.2, 101.1,\n",
    "                  101.8, 100, 101.2, 100.5, 101.2, 101.6, 99.9, 100.5, 100.4, 98.1,\n",
    "                  100.1, 101.6, 99.3, 96.1, 100, 99.7, 99.7, 99.4, 101.5, 100.9,\n",
    "                  101.3, 99.9, 99.1, 100.7, 100.8, 100.8, 101.4, 100.3, 98.4, 97.2])\n",
    "\n",
    "# length\n",
    "count = len(drink)\n",
    "print('count:',count)\n",
    "# mean\n",
    "mean = np.mean(drink)\n",
    "print('mean:',mean)\n",
    "# median\n",
    "median = np.median(drink)\n",
    "print('median:',median)\n",
    "# quantile\n",
    "per = np.percentile(drink,[0,25,50,75,100])\n",
    "print('per:',per)\n",
    "# var\n",
    "var = np.var(drink)\n",
    "print('var:',var)\n",
    "# std\n",
    "std = np.std(drink)\n",
    "print('std:',std)\n",
    "# min, max, range\n",
    "min, max = np.min(drink), np.max(drink)\n",
    "print('min:',min,',max:',max)\n",
    "range = max - min\n",
    "print('range:',range)\n",
    "# IQR\n",
    "q75, q25 = np.percentile(drink, [75, 25])\n",
    "print(q75,q25)\n",
    "IQR = q75 - q25\n",
    "print('IQR:',IQR)\n",
    "\n",
    "# 10백분위수,90백분위수\n",
    "per01_09 = np.percentile(drink,q=[10,90])\n",
    "print(per01_09)\n",
    "\n",
    "per25, per50, per75 = np.percentile(drink,q=[25,50,75])\n",
    "# summary\n",
    "import pandas as pd\n",
    "drink_df = pd.DataFrame(drink)\n",
    "summary = drink_df.describe()\n",
    "print(\" ---- pandas summary --- \")\n",
    "print(summary)\n",
    "\n",
    "print('길이     :' , count,'\\n',\n",
    "      '평균     :' , mean,'\\n',\n",
    "      '분산     :' , var , '\\n',\n",
    "      '표준편차 :' , std, '\\n',\n",
    "      '중앙값   :' , median ,'\\n',\n",
    "      '최댓값   :' , max  , '\\n',\n",
    "      '최솟값   :' , min  , '\\n',\n",
    "      '제1사분위수 :', per25, '\\n',\n",
    "      '제2사분위수 :', per50, '\\n',\n",
    "      '제3사분위수 :', per75, '\\n',\n",
    "      '사분위수범위 :' ,IQR,'\\n'\n",
    "      )"
   ]
  },
  {
   "cell_type": "code",
   "execution_count": 17,
   "metadata": {},
   "outputs": [
    {
     "name": "stdout",
     "output_type": "stream",
     "text": [
      "MIN_BOXPLOT: 96.13750000000002\n",
      "out of IQR: 95.5\n",
      "out of IQR: 96.1\n"
     ]
    },
    {
     "data": {
      "image/png": "[encoded data removed]",
      "text/plain": [
       "<Figure size 432x288 with 1 Axes>"
      ]
     },
     "metadata": {
      "needs_background": "light"
     },
     "output_type": "display_data"
    }
   ],
   "source": [
    "import matplotlib.pyplot as plt\n",
    "\n",
    "# print out of range number\n",
    "MIN_BOXPLOT= per25 - IQR * 1.5\n",
    "print('MIN_BOXPLOT:',MIN_BOXPLOT)\n",
    "for num in drink:\n",
    "    if num<MIN_BOXPLOT :\n",
    "        print('out of IQR:', num)\n",
    "\n",
    "plt.boxplot(drink)\n",
    "plt.show()\n",
    "\n",
    "# reference: https://rfriend.tistory.com/410 [R, Python 분석과 프로그래밍의 친구 (by R Friend)]"
   ]
  },
  {
   "cell_type": "code",
   "execution_count": 21,
   "metadata": {},
   "outputs": [
    {
     "data": {
      "text/plain": [
       "(244, 7)"
      ]
     },
     "execution_count": 21,
     "metadata": {},
     "output_type": "execute_result"
    }
   ],
   "source": [
    "import seaborn as sns\n",
    "# loading 'tips' dataset\n",
    "tips = sns.load_dataset('tips')\n",
    "tips.shape"
   ]
  },
  {
   "cell_type": "code",
   "execution_count": 22,
   "metadata": {},
   "outputs": [
    {
     "data": {
      "text/html": [
       "<div>\n",
       "<style scoped>\n",
       "    .dataframe tbody tr th:only-of-type {\n",
       "        vertical-align: middle;\n",
       "    }\n",
       "\n",
       "    .dataframe tbody tr th {\n",
       "        vertical-align: top;\n",
       "    }\n",
       "\n",
       "    .dataframe thead th {\n",
       "        text-align: right;\n",
       "    }\n",
       "</style>\n",
       "<table border=\"1\" class=\"dataframe\">\n",
       "  <thead>\n",
       "    <tr style=\"text-align: right;\">\n",
       "      <th></th>\n",
       "      <th>total_bill</th>\n",
       "      <th>tip</th>\n",
       "      <th>sex</th>\n",
       "      <th>smoker</th>\n",
       "      <th>day</th>\n",
       "      <th>time</th>\n",
       "      <th>size</th>\n",
       "    </tr>\n",
       "  </thead>\n",
       "  <tbody>\n",
       "    <tr>\n",
       "      <th>0</th>\n",
       "      <td>16.99</td>\n",
       "      <td>1.01</td>\n",
       "      <td>Female</td>\n",
       "      <td>No</td>\n",
       "      <td>Sun</td>\n",
       "      <td>Dinner</td>\n",
       "      <td>2</td>\n",
       "    </tr>\n",
       "    <tr>\n",
       "      <th>1</th>\n",
       "      <td>10.34</td>\n",
       "      <td>1.66</td>\n",
       "      <td>Male</td>\n",
       "      <td>No</td>\n",
       "      <td>Sun</td>\n",
       "      <td>Dinner</td>\n",
       "      <td>3</td>\n",
       "    </tr>\n",
       "    <tr>\n",
       "      <th>2</th>\n",
       "      <td>21.01</td>\n",
       "      <td>3.50</td>\n",
       "      <td>Male</td>\n",
       "      <td>No</td>\n",
       "      <td>Sun</td>\n",
       "      <td>Dinner</td>\n",
       "      <td>3</td>\n",
       "    </tr>\n",
       "    <tr>\n",
       "      <th>3</th>\n",
       "      <td>23.68</td>\n",
       "      <td>3.31</td>\n",
       "      <td>Male</td>\n",
       "      <td>No</td>\n",
       "      <td>Sun</td>\n",
       "      <td>Dinner</td>\n",
       "      <td>2</td>\n",
       "    </tr>\n",
       "    <tr>\n",
       "      <th>4</th>\n",
       "      <td>24.59</td>\n",
       "      <td>3.61</td>\n",
       "      <td>Female</td>\n",
       "      <td>No</td>\n",
       "      <td>Sun</td>\n",
       "      <td>Dinner</td>\n",
       "      <td>4</td>\n",
       "    </tr>\n",
       "  </tbody>\n",
       "</table>\n",
       "</div>"
      ],
      "text/plain": [
       "   total_bill   tip     sex smoker  day    time  size\n",
       "0       16.99  1.01  Female     No  Sun  Dinner     2\n",
       "1       10.34  1.66    Male     No  Sun  Dinner     3\n",
       "2       21.01  3.50    Male     No  Sun  Dinner     3\n",
       "3       23.68  3.31    Male     No  Sun  Dinner     2\n",
       "4       24.59  3.61  Female     No  Sun  Dinner     4"
      ]
     },
     "execution_count": 22,
     "metadata": {},
     "output_type": "execute_result"
    }
   ],
   "source": [
    "tips.head()"
   ]
  },
  {
   "cell_type": "code",
   "execution_count": 23,
   "metadata": {},
   "outputs": [
    {
     "data": {
      "text/plain": [
       "sex     day \n",
       "Male    Thur    30\n",
       "        Fri     10\n",
       "        Sat     59\n",
       "        Sun     58\n",
       "Female  Thur    32\n",
       "        Fri      9\n",
       "        Sat     28\n",
       "        Sun     18\n",
       "dtype: int64"
      ]
     },
     "execution_count": 23,
     "metadata": {},
     "output_type": "execute_result"
    }
   ],
   "source": [
    "tips.groupby(['sex', 'day']).size()"
   ]
  },
  {
   "cell_type": "code",
   "execution_count": 24,
   "metadata": {},
   "outputs": [
    {
     "data": {
      "image/png": "[encoded data removed]",
      "text/plain": [
       "<Figure size 432x288 with 1 Axes>"
      ]
     },
     "metadata": {
      "needs_background": "light"
     },
     "output_type": "display_data"
    }
   ],
   "source": [
    "# 위 예제와 비슷한데 블로그에서 소개한 내용을 사용하면 여러개 한번에 + 다양한 옵션 사용가능\n",
    "sns.boxplot(x=\"day\", \n",
    "            y=\"tip\", \n",
    "            hue=\"sex\",\n",
    "            data=tips)\n",
    "\n",
    "plt.show()"
   ]
  },
  {
   "cell_type": "code",
   "execution_count": null,
   "metadata": {},
   "outputs": [],
   "source": []
  }
 ],
 "metadata": {
  "kernelspec": {
   "display_name": "Python 3",
   "language": "python",
   "name": "python3"
  },
  "language_info": {
   "codemirror_mode": {
    "name": "ipython",
    "version": 3
   },
   "file_extension": ".py",
   "mimetype": "text/x-python",
   "name": "python",
   "nbconvert_exporter": "python",
   "pygments_lexer": "ipython3",
   "version": "3.6.5"
  },
  "pycharm": {
   "stem_cell": {
    "cell_type": "raw",
    "metadata": {
     "collapsed": false
    },
    "source": []
   }
  }
 },
 "nbformat": 4,
 "nbformat_minor": 1
}
