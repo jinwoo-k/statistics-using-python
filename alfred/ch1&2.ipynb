{
 "cells": [
  {
   "cell_type": "markdown",
   "metadata": {},
   "source": [
    "# CH1. 서론\n",
    "## 1.1 통계학이란?\n",
    "* 자료의 수집과정을 설계하고\n",
    "* 자료를 요약하고\n",
    "* 해석하여 결론을 끌어내거나 일반화하는 \n",
    "전체적인 원리와 방법론을 제공\n",
    "\n"
   ]
  },
  {
   "cell_type": "markdown",
   "metadata": {},
   "source": [
    "## 1.2 모집단과 표본\n",
    "* 모집단 (population) : 얻고자하는 정보와 관련있는 모든 개체로부터 얻을 수 있는 모든 관측값들의 집합\n",
    "* 표본 (sample) : 모집단의 일부분으로 원하는 정보를 얻기 위해 수행한 관측과정을 통하여 실제로 얻어진 관측 결과의 집합"
   ]
  },
  {
   "cell_type": "markdown",
   "metadata": {},
   "source": [
    "## 1.3 통계학의 목표\n",
    "* 관측값으로부터 효율적인 추론을 할 수 있도록 표본추출의 과정과 범위를 설계\n",
    "* 표본에 포함되어 있는 정보를 분석하여 모집단에 관하여 추론한다. 이때 추론에 수반되는 불확실성도 추정한다."
   ]
  },
  {
   "cell_type": "markdown",
   "metadata": {},
   "source": [
    "# CH2. 표와 그림을 통한 자료의 요약\n",
    "## 2.1 서론\n",
    "* 자료의 개요를 쉽게 파악하기 위하여 정리.요약하기 위하여 표와 그림을 이용하는 방법을 공부\n",
    "* 자료를 요약하는 분석의 대상이 되는 자료의 형태에 따라 달라지게 됨"
   ]
  },
  {
   "cell_type": "markdown",
   "metadata": {},
   "source": [
    "## 2.2 자료의 형태 \n",
    "* 범주형자료(질적자료)\n",
    "    * 순위형 자료\n",
    "    * 명목형 자료 \n",
    "* 수치형자료(양적자료)\n",
    "    * 연속형 자료\n",
    "    * 이산형 자료\n",
    "\n",
    "\n",
    "* https://en.wikipedia.org/wiki/Level_of_measurement\n",
    "    * 명목측정\n",
    "    * 서열측정\n",
    "    * 등간측정\n",
    "    * 비율측정\n",
    "* https://m.blog.naver.com/PostView.nhn?blogId=sgjjojo&logNo=221270160250&proxyReferer=https%3A%2F%2Fwww.google.com%2F"
   ]
  },
  {
   "cell_type": "markdown",
   "metadata": {},
   "source": [
    "## 2.3 범주형 자료의 요약\n"
   ]
  },
  {
   "cell_type": "markdown",
   "metadata": {},
   "source": [
    "### 도수분포표frequency table)\n",
    "    * 도수(frequency)\n",
    "    * 상대도수(relative frequency)\n",
    "### 원형그래프 \n",
    "    * 특징 : 상대도수에 비례하도록 중심각을 나눔\n",
    "    * 장점 : 전체에서 각 범주가 또는 몇몇 범주가 차지하는 비율 파악하기 좋음\n",
    "    * 단점 : 범주간의 도수비교하거나 도수크기의 차이 파악하기 힘듬(도수,상대도수 기입)\n",
    "### 막대그래프\n",
    "    * 장점 : 범주간의 도수를 비교하기 쉬움\n",
    "### 파레토그림\n",
    "    * 특징 : 도수가  큰 순으로 범주를 배열, 누적상대도수를 막대 위에 선으로 표시  \n",
    "    * 장점 : 어느범주가 중요한 범주인지 쉽게 파악\n",
    "    * 단점 : 순위형자료에서는 유용하지 않음    \n"
   ]
  },
  {
   "cell_type": "markdown",
   "metadata": {},
   "source": [
    "## 2.4 이산형 자료의 요약\n"
   ]
  },
  {
   "cell_type": "markdown",
   "metadata": {},
   "source": [
    "* 이산형 자료 : 관측된 수치 자료가 셀 수 있는 경우\n",
    "* 관측값의 종류가 적은 경우 - 범주형 자료를 요약하는 기법 사용 (도수분포표,원형그래프,막대그래프,파레토그림 ...)\n",
    "* 관측값의 종류가 많은 경유 - 연속형 자료를 요약하는 기법 사용 (점도표,도수분포표,히스토그램,도수다각형,줄기-잎그림 ...)"
   ]
  },
  {
   "cell_type": "markdown",
   "metadata": {},
   "source": [
    "## 2.5 연속형 자료의 요약"
   ]
  },
  {
   "cell_type": "markdown",
   "metadata": {},
   "source": [
    "### 점도표\n",
    "    * 자료의 전체적인 개요 파악\n",
    "    * 단점 : 많은 연속형 자료를 나타내는 것은 힘들고 뭉쳐서 알아보기 힘듬\n",
    "### 도수분포표\n",
    "    * 계급(class)\n",
    "    * 계급구간(class interval)\n",
    "    * 작성방법\n",
    "        1 범위구하기\n",
    "        2 계급구간폭 정하기 (구간개수 : k = 5 log10(n), sturges,scott ...)\n",
    "        3 계급구간정하기\n",
    "        4 계급구간에 속하는 도수 구하기\n",
    "        5 상대도수 구하기\n",
    "### 히스토그램\n",
    "    * 범주형 자료예서는 막대그래프로 범주간 도수를 비교\n",
    "    * 연속형 자료에서는 계급구간 간의 도스를 비교 및 계급구간에 따른 도수의 변화 경향, 즉 자료의 분포를 파악.\n",
    "    * 막대의 높이는 상대도수값을 폭으로 나누어 구함.\n",
    "### 도수다각형\n",
    "    * 막대 상단의 중앙점을 직선으로 연결하여 그린다.\n",
    "    * 중심의 위치,퍼진 정도를 파악하는데 유용\n",
    "### 줄기-잎 그림\n",
    "    * 원래의 관측값을 보여주므로 최소,최대,관측값의 위치파악 용이\n",
    "    * 히스토그램의 장점\n",
    "    * 단점 : 관측값이 많은 경우 그리기 어렵다. 관측값이 지나치게 흩어져있는 경우도 부적절.\n",
    "### 분포의 모양\n",
    "    * 대칭형 분포 (종모양 , 이봉형, 균일형) \n",
    "    * 편중된 분포 (오른쪽 으로 편중, 왼쪽으로 편중)"
   ]
  },
  {
   "cell_type": "code",
   "execution_count": null,
   "metadata": {},
   "outputs": [],
   "source": []
  }
 ],
 "metadata": {
  "kernelspec": {
   "display_name": "Python 3",
   "language": "python",
   "name": "python3"
  },
  "language_info": {
   "codemirror_mode": {
    "name": "ipython",
    "version": 3
   },
   "file_extension": ".py",
   "mimetype": "text/x-python",
   "name": "python",
   "nbconvert_exporter": "python",
   "pygments_lexer": "ipython3",
   "version": "3.7.2"
  }
 },
 "nbformat": 4,
 "nbformat_minor": 2
}
