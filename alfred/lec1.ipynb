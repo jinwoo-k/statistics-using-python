{
 "cells": [
  {
   "cell_type": "markdown",
   "metadata": {},
   "source": [
    "# 적률(moment)\n",
    "적률이란? 확률변수 X의 n승의 기댓값\n",
    "\n",
    "$$ \n",
    "E(X^{}) \\\\\n",
    "E(X^{2})  \\\\\n",
    "E(X^{3}) \n",
    "$$\n",
    "참고자료 : https://cceeddcc.tistory.com/14\n"
   ]
  },
  {
   "cell_type": "markdown",
   "metadata": {},
   "source": [
    "# 적률생성함수(mgf)\n",
    "\n",
    "* 정의 : 확률변수 X와 어떤 양수 h > 0 대해 E(e^Xt) 이 −h  < t < h 에서 존재하면  \n",
    "$$ M_{X}(t) =  E(e^{Xt}) $$ \n",
    "를 적률생성함수라고 한다.\n",
    "* 적률생성함수를 n번 미분하고 0을 대입하면 n차 적률을 얻는다.\n",
    "$$ \\frac{d^{n}}{dt^{n}}M_{X}(0) = E(X^{n}) $$\n",
    "\n",
    "참고 : https://hsm-edu.tistory.com/23"
   ]
  },
  {
   "cell_type": "markdown",
   "metadata": {},
   "source": [
    "# 적률생성함수의 분포결정성\n",
    "* 확률변수 X,Y의 두 적률생성함수가 같으면 X,Y의 확률질량(밀도)함수도 같다\n",
    "\n",
    "참고 : https://hsm-edu.tistory.com/24?category=741767"
   ]
  },
  {
   "cell_type": "markdown",
   "metadata": {},
   "source": [
    "# 이항분포의 적률생성함수\n",
    "\n",
    "$$ \n",
    "X \\sim Bin(n,p) \\\\\n",
    "pdf of x : f(x) = \\left(\\begin{matrix} n \\\\ x \\end{matrix} \\right) p^{x}q^{n-x} \\\\\n",
    "mgf of x : M_{X}(t) = E(e^{Xt}) = \\sum\\limits_{x=0}^{n}{e^{xt}f(x)} = (pe^{t} + q)^{n} \\\\\n",
    "\\frac{d}{dt}M_{X}(0) = E(X) = np \\\\\n",
    "\\frac{d^{2}}{dt^{2}}M_{X}(0) = E(X^{2}) =  np(1-p+np) \\\\\n",
    "Var(X)  = E(X^{2}) - E(X)^{2} = npq\n",
    "$$\n",
    "참고 : http://blog.daum.net/gongdjn/51"
   ]
  },
  {
   "cell_type": "markdown",
   "metadata": {},
   "source": [
    "# 정규분포의 적률생성함수\n",
    "$$ \n",
    "X \\sim N(\\mu,\\sigma^{2}) \\\\\n",
    "pdf of x : f(x) = \\frac{1}{\\sqrt{2\\pi}\\sigma} e^{-\\frac{(x-\\mu)^{2}}{2\\sigma^{2}}} \\\\\n",
    "mgf of x : M_{X}(t) = E(e^{Xt}) = \\exp (\\mu t+ \\frac{1}{2}\\sigma ^{2}t^{2}) \\\\\n",
    "\\frac{d}{dt}M_{X}(0) = E(X) = \\mu \\\\\n",
    "\\frac{d^{2}}{dt^{2}}M_{X}(0) = E(X^{2}) = \\mu^{2} + \\sigma^{2} \\\\\n",
    "Var(X)  = E(X^{2}) - E(X)^{2} = \\sigma^{2}\n",
    "$$\n",
    "\n",
    "참고 : http://blog.daum.net/gongdjn/51"
   ]
  },
  {
   "cell_type": "markdown",
   "metadata": {},
   "source": [
    "# 정규분포의 성질1\n",
    "$$\n",
    "X \\sim N(\\mu,\\sigma^{2}) \\\\\n",
    "Y = aX + b \\\\\n",
    "pdf of y ?  \\\\\n",
    "$$"
   ]
  },
  {
   "cell_type": "markdown",
   "metadata": {},
   "source": [
    "# 정규분포의 성질2\n",
    "$$\n",
    "X1 \\sim N(\\mu 1,\\sigma 1^{2} ) \\\\\n",
    "X2 \\sim N(\\mu 2,\\sigma 2^{2}) \\\\\n",
    "Y = X1 + X2 \\\\ (X1,X2는 독립)\\\\ \n",
    "pdf of y ?  \\\\\n",
    "$$"
   ]
  },
  {
   "cell_type": "markdown",
   "metadata": {},
   "source": []
  }
 ],
 "metadata": {
  "kernelspec": {
   "display_name": "Python 3",
   "language": "python",
   "name": "python3"
  },
  "language_info": {
   "codemirror_mode": {
    "name": "ipython",
    "version": 3
   },
   "file_extension": ".py",
   "mimetype": "text/x-python",
   "name": "python",
   "nbconvert_exporter": "python",
   "pygments_lexer": "ipython3",
   "version": "3.7.2"
  }
 },
 "nbformat": 4,
 "nbformat_minor": 1
}
