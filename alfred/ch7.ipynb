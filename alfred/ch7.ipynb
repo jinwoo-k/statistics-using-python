  {
   "cell_type": "markdown",
   "metadata": {},
   "source": [
    "# CH7. 이항분포와 그에 관련된 분포들\n",
    "\n",
    "## 7.1 서론\n",
    "* 모수(parameter)\n",
    "    * 모집단에서 관심을 가지고 있는 수치  (ex 모평균, 모분산, ..., p263)\n",
    "    * 모수의 값이 알려져 있는 경우는 거의 없음\n",
    "    * 확률변수 X의 확률분포는 미지의 모수에 의하여 표현됨 (ex. 표본평균,정규분포,p 269)\n",
    "    * 확률변수 X의 관측값으로부터 모수에 관한 추론을 할 수 있음\n",
    "* 이항분포와 그에 관련된 분포들\n",
    "    * 모집단의 구성원들이 두그룹으로 나누어져 있는 경우의 표본추출에서 광범위하게 쓰이는 확률모형    \n",
    "    * 베르누이 분포\n",
    "    * 이항분포\n",
    "    * 초기하분포\n",
    "    * 포아송분포\n",
    "* 이산확률분포 vs 연속확률분포    "
   ]
  },
  {
   "cell_type": "markdown",
   "metadata": {},
   "source": [
    "## 7.2 베르누이 시행\n",
    "\n",
    "* 시행(Trial) : 매번 <반복>되는 추출(실험)\n",
    "* 베르누이 시행(Bernoulli trial)\n",
    "    * 성공/실패의 두 결과만 갖는다.\n",
    "    * 각 시행에서 성공할 확률 p, 실패할 확률 q = 1-p 로 일정. \n",
    "    * 각 시행은 독립적 (이전의 시행 결과가 다음 시행의 결과에 영향을 미치지 않는다)\n",
    "        * 복원 추출\n",
    "        * 비복원 추출시에도 모집단의 크기가 표본에 비해 아주 클 때(약 20배) 적용가능.\n",
    "* 베르누이 분포\n",
    "    * 확률변수 X = 0 or 1 (성공 : 1, 실패 : 0)\n",
    "    * P(SUCCESS) = p\n",
    "    * P(FAILURE) = q = 1 - p\n",
    "    * 확률질량함수(p.m.f)\n",
    "        $$P(x) =  p*x + q*(1-x) $$   \n",
    "        * 확률질량함수의 합 $$\\sum\\limits_{x=0}^{1}{f( x)} = p + q = p + 1 - p = 1$$ \n",
    "    * X ~ Bernoulli(p) : p는 모수의 일종(모집단에서 성공인 비율)\n",
    "    * 평균\n",
    "    $$E(X) = \\sum\\limits_{x=0}^{1}{x.P( x)} = 0* q + 1 * p = p$$\n",
    "    * 분산   \n",
    "$$E(X^2) = \\sum\\limits_{x=0}^{1}{x^2.P( x)} = 0^2* q + 1^2 * p = p$$\n",
    "$$VAR(X) = E(X^2) - [E(X)]^2 = p - p^2 = p(1-p) = pq$$"
   ]
  },
  {
   "cell_type": "markdown",
   "metadata": {},
   "source": [
    "## 7.3 이항분포\n",
    "* 이항분포 \n",
    "    * 성공확률이 p인 베르누이 시행을 n번 반복\n",
    "    * 확률변수 X 는 성공 횟수(X = 0,1,...,n)\n",
    "    * 확률질량함수(p.m.f)\n",
    "    $$P(x) = {n \\choose x}p^x q^{1-x}$$\n",
    "    * X ~ Bin(n,p)\n",
    "    * 평균\n",
    "    $$E(X) = \\sum\\limits_{x=0}^{n}{x.P(x)} = np$$\n",
    "    * 분산\n",
    "    $$VAR(X) = npq$$"
   ]
  },
  {
   "cell_type": "markdown",
   "metadata": {},
   "source": [
    "* 이항분포표\n",
    "    * n(1~25), p(0.1~ 0.9)의 각 경우에 \n",
    "    * 임의의 c (0~n)에 대한 P(X<=c) 가 주어짐\n",
    "    * 이항분포표에서 확률계산\n",
    "    $$P(X=a) = P(X \\leq a) - P(X \\leq a-1)$$\n",
    "    $$P(X \\geq a) = 1 - P(X \\leq a-1)$$\n",
    "    $$P(a \\leq X \\leq b) = P(X \\leq b) - P(X \\leq a-1)$$\n",
    "    $$P(a \\lt X \\lt b) = P(X \\leq b-1) - P(X \\leq a)$$"
   ]
  },
  {
   "cell_type": "markdown",
   "metadata": {},
   "source": [
    "(베르누이 분포와 이항분포의 관계)\n",
    "\n",
    "* X1,X2,...Xn ~ Bernoulli(p)  \n",
    "    * X1,...,Xn 은 i.i.d(Independent and identically distributed)\n",
    "* E(X1)=E(X2)=..=E(Xn) = p\n",
    "* VAR(X1)=VAR(X2)=...=VAR(Xn)= pq\n",
    "\n",
    "* X = X1 + X2 + ... +Xn\n",
    "    * X ~ Bin(n,p)\n",
    "    * E(X) = E(X1+X2+...+Xn)= E(X1)+...+E(Xn)= p+ ...+ p = np\n",
    "    * VAR(X) = VAR(X1+X2+...+Xn) = VAR(X1)+VAR(X2)+...+VAR(Xn) = pq + .. + pq = npq\n",
    "       \n",
    "\n",
    "\n"
   ]
  },
  {
   "cell_type": "markdown",
   "metadata": {},
   "source": [
    "## 7.4 초기하 분포\n",
    "* 유한모집단의 구성원소가 두가지 범주로 분류 될 때 비복원으로 추출\n",
    "* 어느 한 범주에 속하는 경우의 개수에 대한 분포\n",
    "* N : 모집단의 크기\n",
    "* n : 표본의 크기\n",
    "* D: 모집단 내의 범주 A에 속하는 구성원소의 수\n",
    "* X : 표본 내에서 범주 A에 속하는 구성원소의 수 (0~n)\n",
    "* 확률질량함수\n",
    "$$P(X=x) = \\frac {{D \\choose x} * {N-D \\choose n-x}}{N \\choose n}$$\n",
    "* X ~ H(n,N,D)\n",
    "* 평균\n",
    "$$E(X) = np $$\n",
    "* 분산\n",
    "$$VAR(X) = npq * \\frac {N-n}{N-1}$$\n",
    "* 유한 모집단 수정계수\n",
    "* 표본의 크기가 모집단에 비해 상대적으로 작으면(보통 n<0.05N) 이항분포를 따른다고 가정 "
   ]
  },
  {
   "cell_type": "markdown",
   "metadata": {},
   "source": [
    "## 7.5 포아송 분포\n",
    "* 포아송 분포를 적용하기 위한 세가지 조건\n",
    "    * 주어진 구간에서 사건의 평균발생횟수의 확률분포는 구간의 시작점과 무관하고 길이에만 영향\n",
    "    * 한 순간에 2회 이상의 사건이 발생할 확률은 거의 0\n",
    "    * 한 구간에서 발생하는 사건의 횟수는 겹치지 않는 다른 구간에서 발생하는 사건의 수에 독립\n",
    "* X: 위의 가정을 만족하고 평균 m회 발생하는 사건의 발생횟수    (0,1,...)\n",
    "* 확률질량함수\n",
    "$$P(X=x) = \\frac {m^x }{x!} e^{-m}$$\n",
    "* X ~ Poi(m)\n",
    "* 평균\n",
    "$$E(X) = m$$\n",
    "* 분산\n",
    "$$VAR(X) = m$$\n",
    "* 보통 n >= 20 and p <= 0.05 인 이항분포를 포아송분포로 근사시켜서 계산"
   ]
  },
  {
   "cell_type": "code",
   "execution_count": null,
   "metadata": {},
   "outputs": [],
   "source": []
  },
  {
   "cell_type": "code",
   "execution_count": null,
   "metadata": {},
   "outputs": [],
   "source": []
  }
 ],
 "metadata": {
  "kernelspec": {
   "display_name": "Python 3",
   "language": "python",
   "name": "python3"
  },
  "language_info": {
   "codemirror_mode": {
    "name": "ipython",
    "version": 3
   },
   "file_extension": ".py",
   "mimetype": "text/x-python",
   "name": "python",
   "nbconvert_exporter": "python",
   "pygments_lexer": "ipython3",
   "version": "3.7.2"
  }
 },
 "nbformat": 4,
 "nbformat_minor": 2
}
