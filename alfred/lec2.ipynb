{
 "cells": [
  {
   "cell_type": "markdown",
   "metadata": {},
   "source": [
    "# 지수분포의 확률밀도함수 유도\n",
    "\n",
    "$\n",
    "X : 시간당\\;평균발생횟수가\\;\\lambda 일 때,\\;t시간\\;동안\\;발생횟수 \\\\   \n",
    "X \\sim Poi(m = \\lambda t) \\\\\n",
    "f(x) =  \\frac{m^{x} e^{-m}}{x!} = \\frac{(\\lambda t)^{x} e^{-\\lambda t}}{x!} \\\\\n",
    "\\\\\n",
    "W_{1} : 힌번\\;발생하는\\;평균시간이\\;\\beta =1/\\lambda  일\\;때,\\;1회\\;발생까지\\;걸리는\\;시간 \\\\\n",
    "W_{1} \\sim Exp(\\lambda  = 1/\\beta ) \\\\\n",
    "cdf_{W_{1}} = F_{W1}(t)= P(W_{1}<=t)=1-P(W_{1}>t) = 1 - P(X=0) \\\\\n",
    "F_{W1}(t) = 1 - f(0) = 1 - \\frac{(\\lambda t)^{0} e^{-\\lambda t}}{0!} =  1 -  e^{-\\lambda t} \\\\\n",
    "pdf_{W_{1}} = \\frac{dF_{W_{1}(t)}}{dt} = \\lambda e^{-\\lambda t}\n",
    "$"
   ]
  },
  {
   "cell_type": "markdown",
   "metadata": {},
   "source": [
    "# 지수분포의 적률생성함수 유도\n",
    "$\n",
    "X \\sim Exp(\\lambda = 1/\\beta ) \\\\\n",
    "M_{X}(t) = E(e^{xt})= \\int_{0}^{\\infty}{e^{xt} \\lambda e^{-\\lambda x} dx } \\\\\n",
    "M_{X}(t) = \\lambda \\int_{0}^{\\infty}{e^{(t - \\lambda) x} dx } = \\frac{\\lambda }{\\lambda - t} , \\;\\;(t<=\\lambda) \\\\\n",
    "M_{X}(t) = (\\frac{\\lambda - t} {\\lambda })^{-1} = ( 1- \\frac{1}{\\lambda }t)^{-1} = ( 1- \\beta t )^{-1} \n",
    "$"
   ]
  },
  {
   "cell_type": "markdown",
   "metadata": {},
   "source": [
    "# 지수분포의 평균과 분산(mgf 이용)\n",
    "$\n",
    "M_{X}(t) = ( 1- \\beta t )^{-1} \\\\\n",
    "M^{'}_{X}(t) =  -1*(1- \\beta t)^{-2}*(-\\beta )= \\beta (1- \\beta t)^{-2} \\\\\n",
    "M^{'}_{X}(0) = E(X) = \\beta (1- \\beta*0)^{-2} =  \\beta = 1/\\lambda \\\\\n",
    "M^{\"}_{X}(t) = -2\\beta (1-\\beta t)^{-3}*(-\\beta ) = 2\\beta ^{2}(1- \\beta t)^{3} \\\\\n",
    "M^{\"}_{X}(0) = E(X^{2}) = 2\\beta ^{2}(1- \\beta *0)^{3} = 2\\beta ^{2} \\\\\n",
    "Var(X) = E(X^{2}) - (E(X))^{2} = 2\\beta ^{2} - \\beta ^{2} = \\beta ^{2} = 1/\\lambda^{2}\n",
    "$"
   ]
  },
  {
   "cell_type": "markdown",
   "metadata": {},
   "source": [
    "# 감마분포의 확률밀도함수 유도\n",
    "$\n",
    "X : 시간당\\;평균발생횟수가\\;\\lambda 일 때,\\;t시간\\;동안\\;발생횟수 \\\\   \n",
    "X \\sim Poi(m = \\lambda t) \\\\\n",
    "f(x) =  \\frac{m^{x} e^{-m}}{x!} = \\frac{(\\lambda t)^{x} e^{-\\lambda t}}{x!} \\\\\n",
    "f^{'}(x) = \\frac{\\lambda x(\\lambda t)^{x-1} e^{-\\lambda t}}{x!} - \\frac{\\lambda (\\lambda t)^{x} e^{-\\lambda t}}{x!}\\\\\n",
    "\\\\\n",
    "W_{\\alpha} : 한번\\;발생하는\\;평균시간이\\;\\beta =1/\\lambda  일\\;때,\\;\\alpha회\\;발생까지\\;걸리는\\;시간 \\\\\n",
    "W_{\\alpha} \\sim Gamma(\\alpha,\\beta ) \\\\\n",
    "cdf_{W_{\\alpha}} = F_{W_{\\alpha}}(t)= P(W_{\\alpha}<=t)=1-P(W_{\\alpha}>t) = 1 - P(X<=\\alpha) \\\\\n",
    "F_{W_{\\alpha}}(t) = 1 - \\sum\\limits_{k=0}^{\\alpha-1}{f(k)} \\\\\n",
    "pdf_{W_{\\alpha}}: f_{W_{\\alpha}}(t) = \\frac{dF_{W_{\\alpha}(t)}}{dt} = 0 - \\sum\\limits_{k=0}^{\\alpha-1}{f^{'}(k)} \\\\\n",
    "f_{W_{\\alpha}}(t) = \\sum\\limits_{k=0}^{\\alpha-1}{-f^{'}(k)} = \\sum\\limits_{k=0}^{\\alpha-1}{\\frac{\\lambda (\\lambda t)^{k} e^{-\\lambda t}}{k!}} -  \\sum\\limits_{k=0}^{\\alpha-1}{\\frac{\\lambda k(\\lambda t)^{k-1} e^{-\\lambda t}}{k!}}\\\\\n",
    "= \\sum\\limits_{k=0}^{\\alpha-1}{\\frac{\\lambda (\\lambda t)^{k} e^{-\\lambda t}}{k!}} -  \\sum\\limits_{k=1}^{\\alpha-1}{\\frac{\\lambda (\\lambda t)^{k-1} e^{-\\lambda t}}{(k-1)!}}\\\\\n",
    "= \\sum\\limits_{k=0}^{\\alpha-1}{\\frac{\\lambda (\\lambda t)^{k} e^{-\\lambda t}}{k!}} -  \\sum\\limits_{k=0}^{\\alpha-2}{\\frac{\\lambda (\\lambda t)^{k} e^{-\\lambda t}}{(k)!}} \\\\\n",
    "= \\frac{\\lambda (\\lambda t)^{\\alpha-1} e^{-\\lambda t}}{(\\alpha-1)!} = \\frac{\\lambda^{\\alpha}t^{\\alpha-1} e^{-\\lambda t}}{(\\alpha-1)!} \\\\\n",
    "= \\frac{t^{\\alpha-1} e^{\\frac{t}{\\beta}}}{\\beta^{\\alpha}(\\alpha-1)!} \\\\\n",
    "= \\frac{t^{\\alpha-1} e^{\\frac{t}{\\beta}}}{\\beta^{\\alpha}\\Gamma (\\alpha)}  \\rightarrow 팩토리얼을\\;감마함수로\\;표현 \n",
    "$"
   ]
  },
  {
   "cell_type": "markdown",
   "metadata": {},
   "source": [
    "# 감마함수\n",
    "https://ko.wikipedia.org/wiki/%EA%B0%90%EB%A7%88_%ED%95%A8%EC%88%98\n",
    "\n",
    "$\n",
    "\\Gamma(n)=\\int_{0}^{\\infty}{x^{n-1}e^{-x}}dx = n! \\\\\n",
    "\\\\\n",
    "\\Gamma(0.5)= \\sqrt{\\pi}   \\\\\n",
    "\\Gamma(1)= 0! = 1  \\\\\n",
    "\\Gamma(2)= 1! = 1  \\\\\n",
    "\\Gamma(3)= 2! = 2  \\\\\n",
    "\\Gamma(4)= 3! = 6  \\\\\n",
    "$\n",
    "\n",
    "참고 : https://m.blog.naver.com/PostView.nhn?blogId=gdpresent&logNo=221138171419&proxyReferer=https%3A%2F%2Fwww.google.com%2F\n"
   ]
  },
  {
   "cell_type": "markdown",
   "metadata": {},
   "source": [
    "# 감마분포의 적률생성함수 유도\n",
    "\n",
    "$\n",
    "X_{1},X_{2},X_{3},...,X_{\\alpha} \\sim^{iid} Exp(\\lambda = 1/\\beta) \\\\\n",
    "M_{X_{1}}(t) = M_{X_{2}}(t) = ... =  M_{X_{\\alpha}}(t) = (1 - \\beta t)^{-1}\n",
    "\\\\\n",
    "X = X_{1}+X_{2}+X_{3}+...+X_{\\alpha} \\\\\n",
    "M_{X}(t)= E(e^{Xt}) = E(e^{(X_{1}+X_{2}+X_{3}+...+X_{\\alpha})t}) = E(e^{X_{1}t}e^{X_{2}t}...e^{X_{\\alpha}t}) \\\\\n",
    "= E(e^{X_{1}t})E(e^{X_{2}t})...E(e^{X_{\\alpha}t}) = (1 - \\beta t)^{-\\alpha} \n",
    "$"
   ]
  },
  {
   "cell_type": "markdown",
   "metadata": {},
   "source": [
    "# 감마분포의 평균과 분산(mgf 이용)\n",
    "$\n",
    "M_{X}(t) = ( 1- \\beta t )^{-\\alpha} \\\\\n",
    "M^{'}_{X}(t) =  -\\alpha*(1- \\beta t)^{-(\\alpha+1)}*(-\\beta )= \\alpha \\beta (1- \\beta t)^{-(\\alpha+1)} \\\\\n",
    "M^{'}_{X}(0) = E(X) = \\alpha \\beta (1- \\beta*0)^{-(\\alpha+1)} =  \\alpha \\beta \\\\\n",
    "M^{\"}_{X}(t) = -\\alpha \\beta(\\alpha+1) (1- \\beta t)^{-(\\alpha+2)}*(-\\beta ) = \\alpha \\beta^{2}(\\alpha+1) (1- \\beta t)^{-(\\alpha+2)}\\\\\n",
    "M^{\"}_{X}(0) = E(X^{2}) = \\alpha \\beta^{2}(\\alpha+1) (1- \\beta*0)^{-(\\alpha+2)} = (\\alpha \\beta)^{2} + \\alpha \\beta^{2}\\\\\n",
    "Var(X) = E(X^{2}) - (E(X))^{2} = (\\alpha \\beta)^{2} + \\alpha \\beta^{2} -  (\\alpha \\beta)^{2} = \\alpha \\beta^{2}\\\\\n",
    "$"
   ]
  },
  {
   "cell_type": "markdown",
   "metadata": {},
   "source": [
    "# 지수분포와 감마분포와의 관계\n",
    "$\n",
    "X \\sim Exp(\\lambda = 1/\\beta) = Gamma(1,\\beta) \\\\\n",
    "f(x) =  \\lambda e^{-\\lambda x} \\\\\n",
    "M_{X}(t) = ( 1- \\beta t )^{-1} \\\\[1cm] \n",
    "X_{1},X_{2},X_{3},...,X_{\\alpha} \\sim^{iid} Exp(\\lambda = 1/\\beta) = Gamma(1,\\beta) \\\\\n",
    "Y = X_{1}+X_{2}+X_{3}+...+X_{\\alpha} \\\\\n",
    "Y \\sim Gamma(\\alpha,\\beta)\\\\\n",
    "f(y)= \\frac{y^{\\alpha-1} e^{\\frac{y}{\\beta}}}{\\beta^{\\alpha}\\Gamma (\\alpha)} \\\\\n",
    "M_{Y}(t) = ( 1- \\beta t )^{-\\alpha} \\\\\n",
    "$"
   ]
  },
  {
   "cell_type": "code",
   "execution_count": null,
   "metadata": {},
   "outputs": [],
   "source": []
  },
  {
   "cell_type": "code",
   "execution_count": null,
   "metadata": {},
   "outputs": [],
   "source": []
  }
 ],
 "metadata": {
  "kernelspec": {
   "display_name": "Python 3",
   "language": "python",
   "name": "python3"
  },
  "language_info": {
   "codemirror_mode": {
    "name": "ipython",
    "version": 3
   },
   "file_extension": ".py",
   "mimetype": "text/x-python",
   "name": "python",
   "nbconvert_exporter": "python",
   "pygments_lexer": "ipython3",
   "version": "3.7.2"
  }
 },
 "nbformat": 4,
 "nbformat_minor": 2
}
