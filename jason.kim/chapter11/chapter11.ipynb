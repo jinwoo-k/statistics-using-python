{
 "cells": [
  {
   "cell_type": "markdown",
   "metadata": {},
   "source": [
    "# 11. 정규모집에서의 추론 (표본의 크기가 작을때)\n",
    "\n",
    "## 11.1 서론\n",
    "모평균 $\\mu$ 추론시 표본의 크기가 큰 경우에는 중심극한정리애 의해 표본평균 $\\bar{X}$ 의 분포가 정규분포가 된다는 사실 이용한다. \n",
    "<br>\n",
    "표본의 크기가 작은경우에는 모집단의 분포에 영향을 받으며, 모집단이 표준정규분포를 따르는 경우 t분포(t distribution)을 이용해 표준편차 $\\sigma$ 가 알려지지 않은 상태에서 모평균 $\\mu$ 에 대한 추정, 검정이 가능하다.\n",
    "\n"
   ]
  },
  {
   "cell_type": "markdown",
   "metadata": {},
   "source": [
    "## 11.2 t 분포\n",
    "모집단의 분포가 $N(\\mu, \\sigma^2)$ 일때 크기가 n 인 표본의 평균 $\\bar{X}$의 분포는 $N(\\mu, \\sigma^2/n)$ 이며, 이를 표준화하면 \n",
    "$ \\frac{\\bar{X} - \\mu}{\\sigma / \\sqrt{n}} $ ~ $N(0, 1) $ 이다.\n",
    "<br>\n",
    "일반적으로 $\\sigma$ 는 미지수이므로 표본의 표준편차 s 로 추정사용하며, 표본의 크기가 작은 경우 t 분포를 따른다.\n",
    "\n",
    "<img src=\"./img/formular11-1.png\" />\n",
    "<img src=\"./img/img11-1.png\" />\n",
    "\n",
    "자유도(d.f. = r)와 상위 $\\alpha$ 를 이용해 분포표에서 찾을 수 있으며 대칭을 이루기에 하위 확률은 $-t_{\\alpha}(r)$ 가 된다."
   ]
  },
  {
   "cell_type": "markdown",
   "metadata": {},
   "source": [
    "## 11.3 모평균에 대한 추론\n",
    "표본 크기가 작은 경우에도 모평균의 점추정량으로는 표본평균 사용 <br>\n",
    "모집단이 정규분포를 따르고 모분산이 알려진 경우에는 정규분포 이용, 그외에는 t 분포 이용\n",
    "\n",
    "### 구간추정\n",
    "<img src=\"./img/f11-2.png\" />\n",
    "\n",
    "표본의 크기가 클때 추정했던 정규분포($z_{\\alpha/2}$) 가정이 t분포($t_{\\alpha/2}(n-1)$) 바뀜, p288 참고 <br>\n",
    "정규분포 가정의 정합성 : t 분포를 이용한 모평균의 구간추정은 모집단이 정규분포를 따른다는 가정하에 정립됨. 정규확률그림(qq plot)이용해 정규분포 확인\n",
    "<br>\n",
    "### 가설 검정\n",
    "\n",
    "<img src=\"./img/f11-3.png\" />\n",
    "표본의 크기가 클때 추정했던 정규분포($z_{\\alpha/2}$) 가정이 t분포($t_{\\alpha/2}(n-1)$) 바뀜, p299 참고 <br>\n",
    "\n",
    "\n",
    "<img src=\"./img/ex11-1.png\" />\n",
    "P-값을 계산해 검정의 결론 뒷바침 가능"
   ]
  },
  {
   "attachments": {},
   "cell_type": "markdown",
   "metadata": {},
   "source": [
    "연습문제 3.20. 오수침전물이 비료로 쓰였던 6개의 대표적인 정원에서 양상추잎을 대사으로 중금속인 카드뮴의 농도를 측정하였더니 아래와 같은 값을 얻었다.\n",
    "<br><br>\n",
    "21, 38, 12, 15, 14, 8\n",
    "<br><br>\n",
    "1) 카드뮴의 평균 농도에 대한 95% 신뢰구간\n",
    "<br>\n",
    "$\\bar{x}$ = 18, s = 10.67707825, $t_{0.025}(5)$ = 2.571\n",
    "<br>\n",
    "18 +- 12.27635674 (5.72364326, 30.27635674)\n",
    "<br>\n",
    "<br>\n",
    "2) 카드뮴의 농도가 12보다 크다는 증거가 있는가?\n",
    "<br>\n",
    "$H_0 : \\mu = 12$, $H_1 : \\mu > 12$\n",
    "<br>\n",
    "$t = \\frac{\\bar{X}-12}{s/\\sqrt{6}}$ <br>\n",
    "$t_0 = \\frac{18-12}{10.67707825/\\sqrt{6}} = 1.469693846$ <br>\n",
    "이는 유의수준 90% 시 값인 1.476 보다는 크도 95%의 2.015보단 작은 값이다.\n"
   ]
  },
  {
   "cell_type": "markdown",
   "metadata": {},
   "source": [
    "## 11.4 신뢰구간과 양측검정의 관계\n",
    "신뢰구간을 구하는것과 양측검정은 매우 유사한 관계이다. 양측검정에서 기각역의 여집합인 채택역이 신뢰구간이다. <br>\n",
    "모수 $\\theta$ 에 대한 100(1-$\\alpha$)% 신뢰구간이 (L, U)로 구해졌을 때, 가설 $H_0 : \\theta = \\theta_0$ 대 $H_1 : \\theta \\neq \\ \\theta_0$ 에 대하여 유의수준 $\\alpha$ 로 검정을 시행할 때의 결론은 다음과 같다. <br>\n",
    "$\\theta_0 \\in (L, U) \\Leftrightarrow H_0를 기각할 수 없다.$ <br>\n",
    "$\\theta_0 \\notin (L, U) \\Leftrightarrow H_0를 기각한다.$ \n"
   ]
  },
  {
   "cell_type": "markdown",
   "metadata": {},
   "source": [
    "## 11.5 모 표준 편차에 대한 추론\n",
    "모집단의 중심위치(평균)이 아닌 퍼진 정도(편차, 표준편차)에 대한 추론. 이때 모집단이 정규분포를 따른다는 가정하에 진행되며, 정규분포를 따르지 않을 경우 t 분포를 이용한 모평균의 추론보다 오류가 심각해진다. <br>\n",
    "점추정은 표본표준편차 s 를 이용, 구간추정이나 검정은 $s^2$의 분포가 필요한데, 그 분포는 $x^2$ 분포와 관련있다.\n",
    "\n",
    "<img src=\"./img/f11-4.png\" />\n",
    "<img src=\"./img/img11-2.png\" />\n",
    "<br>\n",
    "표본분산 $S^2$의 분포\n",
    "<img src=\"./img/f11-5.png\" />\n",
    "<br>\n",
    "<img src=\"./img/f11-6.png\" />"
   ]
  },
  {
   "cell_type": "code",
   "execution_count": 21,
   "metadata": {},
   "outputs": [
    {
     "name": "stdout",
     "output_type": "stream",
     "text": [
      "194.8 172.62222222222226 13.138577633146681 194.5 175 215 1948 10\n",
      "('se_b : ', 4.154783053568769)\n",
      "('t_alpha : ', 1.8331129326536335)\n",
      "('inrerval : ', 7.6161865478670645)\n",
      "('CI : ', [187.18381345213294, 202.41618654786708])\n",
      "('tval : ', -1.2515695604210733)\n",
      "('pval : ', 0.12113884687382763)\n"
     ]
    }
   ],
   "source": [
    "# 파이썬을 이용한 분석\n",
    "import math\n",
    "from scipy import stats\n",
    "\n",
    "import numpy as np\n",
    "\n",
    "# 아래 자료를 갖고 mu에 대한 90% 신뢰구간을 구하고 200보다 낮다고 할 수 있는지 검증하라.\n",
    "\n",
    "bacteria=np.array([175,190,215,198,184,207,210,193,196,180])\n",
    "\n",
    "xbar_b=np.mean(bacteria)\n",
    "var_b=np.var(bacteria,ddof=1)\n",
    "sd_b=np.std(bacteria,ddof=1)\n",
    "median_b=np.median(bacteria)\n",
    "min_b=np.min(bacteria)\n",
    "max_b=np.max(bacteria)\n",
    "sum_b=np.sum(bacteria)\n",
    "n=bacteria.size\n",
    "\n",
    "print xbar_b, var_b, sd_b, median_b, min_b, max_b, sum_b, n\n",
    "\n",
    "\n",
    "se_b=stats.sem(bacteria);print('se_b : ', se_b)\n",
    "t_alpha=stats.t.ppf(1-0.1/2,n-1);print('t_alpha : ', t_alpha)\n",
    "interval=t_alpha*se_b;print('inrerval : ', interval)\n",
    "CI=[xbar_b-interval,xbar_b+interval];print('CI : ', CI)\n",
    "\n",
    "# 귀무가설을 x = 200 으로 놓고 t0 값 계산\n",
    "tval=(xbar_b-200)/se_b;print('tval : ',  tval)\n",
    "# t0 에 대한 p value 계산\n",
    "pval=stats.t.cdf(tval,n-1);print('pval : ', pval)"
   ]
  },
  {
   "cell_type": "code",
   "execution_count": 18,
   "metadata": {},
   "outputs": [
    {
     "data": {
      "text/plain": [
       "Text(0.5,1,'Normal Q-Q plot')"
      ]
     },
     "execution_count": 18,
     "metadata": {},
     "output_type": "execute_result"
    },
    {
     "data": {
      "image/png": "[encoded data removed]",
      "text/plain": [
       "<Figure size 432x288 with 1 Axes>"
      ]
     },
     "metadata": {
      "needs_background": "light"
     },
     "output_type": "display_data"
    }
   ],
   "source": [
    "import matplotlib.pyplot as plt\n",
    "import statsmodels.api as sm\n",
    "\n",
    "x=np.array([31,35,37,38,38,38,39,40,40,41,42,43,44,44,46,48])\n",
    "\n",
    "sm.qqplot(x,line=\"r\")\n",
    "plt.title(\"Normal Q-Q plot\")\n"
   ]
  },
  {
   "cell_type": "code",
   "execution_count": 20,
   "metadata": {},
   "outputs": [
    {
     "name": "stdout",
     "output_type": "stream",
     "text": [
      "('xbar_x : ', 40.25)\n",
      "('var_x : ', 18.2)\n",
      "('sd_x : ', 4.266145801540309)\n",
      "('median_x : ', 40.0)\n",
      "('min_x : ', 31)\n",
      "('max_x : ', 48)\n",
      "('sum_x : ', 644)\n",
      "('n : ', 16)\n",
      "('se : ', 1.0665364503850772)\n",
      "('t_alpha : ', 2.131449545559323)\n",
      "('interval : ', 2.2732686324957263)\n",
      "('CI : ', [37.97673136750427, 42.52326863249573])\n",
      "('tval : ', 2.109632539223229)\n",
      "('pval : ', 0.026050840503660355)\n"
     ]
    }
   ],
   "source": [
    "xbar_x=np.mean(x);print('xbar_x : ', xbar_x)\n",
    "var_x=np.var(x,ddof=1);print('var_x : ', var_x)\n",
    "sd_x=np.std(x,ddof=1);print('sd_x : ', sd_x)\n",
    "median_x=np.median(x);print('median_x : ', median_x)\n",
    "min_x=np.min(x);print('min_x : ', min_x)\n",
    "max_x=np.max(x);print('max_x : ', max_x)\n",
    "sum_x=np.sum(x);print('sum_x : ', sum_x)\n",
    "n=x.size;print('n : ', n)\n",
    "\n",
    "\n",
    "se=stats.sem(x);print('se : ', se)\n",
    "t_alpha=stats.t.ppf(1-0.05/2,n-1);print('t_alpha : ', t_alpha)\n",
    "interval=t_alpha*se;print('interval : ', interval)\n",
    "CI=[xbar_x-interval,xbar_x+interval];print('Confidence Inrterval : ', CI)\n",
    "\n",
    "tval=(xbar_x-38)/se;print('tval : ', tval)\n",
    "pval=1-stats.t.cdf(tval,n-1);print('pval : ', pval)"
   ]
  },
  {
   "cell_type": "code",
   "execution_count": null,
   "metadata": {},
   "outputs": [],
   "source": []
  }
 ],
 "metadata": {
  "kernelspec": {
   "display_name": "Python 2",
   "language": "python",
   "name": "python2"
  },
  "language_info": {
   "codemirror_mode": {
    "name": "ipython",
    "version": 2
   },
   "file_extension": ".py",
   "mimetype": "text/x-python",
   "name": "python",
   "nbconvert_exporter": "python",
   "pygments_lexer": "ipython2",
   "version": "2.7.16"
  }
 },
 "nbformat": 4,
 "nbformat_minor": 2
}
