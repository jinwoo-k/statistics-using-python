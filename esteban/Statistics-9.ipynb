{
 "cells": [
  {
   "cell_type": "markdown",
   "metadata": {},
   "source": [
    "# 표집분포\n",
    "\n",
    "## 서론\n",
    "\n",
    "* 이전 장에서 이항분포, 정규분포에 대해서 확인\n",
    "* 주어진 표본으로 부터 모집단의 성격을 알아내고자 하는 것을 추론(inference) 이라고 하는데 이는 다음장에... :)\n",
    "* 이처럼 일부를 가지고 전체에 대해 일반화 하여 이야기 할 수 있는 배경에는 표본은 전체 모집단의 특성을 잘 반영하고 있다는 기본 전제이며\n",
    "* 우리는 모집단의 특성중 모평균, 모비율, 모표준편차 등에 관심이 많이 있음\n",
    "* 이런 특성값을 모수(parameter) 라고 하며 통계학에서의 추론의 대상이 됨\n",
    "* 전체 모집단이 큰 경우 이를 모두 조사할 수 없기 때문에 표본으로 부터 전체를 알고자 하는 노력들이 있어왔음\n",
    "* 모든 가능한 표본의 종류별로 $\\bar{X}$ 의 값들이 어떻게 달라지는지를 알 수 있다면 현재의 표본평균이 모수 µ 에 얼마나 가까운지를 알 수 있음\n",
    "\n",
    "* 알아둘 것\n",
    "    * 모수 (Parameter) : 수치로 표현되는 모집단의 특성 (모평균, 모비율, 모분산, 모표준편차 등)\n",
    "    * 통계량 (Statistic) : 표본의 관측값들에 의해 결정되는 양 (표본평균, 표본분산, 표본표분편차 등)\n",
    "    * 표집분포 (Sampling distribution) : 통계량의 확률분포\n",
    "    * 임의표본 (Random Sample) : 크기가 큰 모집단으로 부터 임의 추출된 크기가 n 인 표본은 서로 독립이고 모두 모집단의 분포와 같은 분포를 갖는 것으로 간주하며, 이러한 표본을 임의표본이라고 한다\n",
    "\n",
    "* 표본 $X_{1}$, ... , $X_{n}$ 의 평균인 표본 평균은 $$ \\bar{X} = \\frac {X_{1} + ... + X_{n}} {n} $$\n",
    "   \n",
    "* 표본으로 부터 계산되므로 통계량이며, 역시 모수의 값을 추측하는데 쓰이게 되는데 아래와 같은 점을 유의해야 함\n",
    "    * 표본은 특정한 케이스에 불과하므로 모수의 참값과 통상적으로는 같지 않다\n",
    "    * 통계량의 값은 그 당시 추출된 표본에 의해 영향을 받는다.\n",
    "    * 다른 표본을 추출할 때마다 통계량의 값은 변한다.\n",
    "    \n",
    "* 책에서는 예로 신도시 계획시 근로자들의 집에서부터 직장까지의 평균 통근거리를 설명하고 있으며, 모집단은 방대하므로 일부를 추출하여 정보를 얻음\n",
    "* 1회 샘플 80명 기준 표본평균거리 12km 가 나왔다고 하면, 두번째도 동일하게 나온다는 보장이 없음\n",
    "* 이는 표본마다 달라지기 때문이며, 위의 표본평균으로 부터 모집단의 모수인 µ 를 추론하게 되고 얼마나 정확하게 알 수 있는가는 표본추출시마다 달라지는 변동성에 있음\n",
    "* 모든 가능한 표본의 종류별로 표본평균 $\\bar{X}$ 의 값이 어떻게 달라지는지 알 수 있다면 현재의 표본평균이 µ 에 얼마나 가까운지를 알 수 있다.\n",
    "\n",
    "## 통계량의 확률분포\n",
    "* 위에서 본 것 처럼 통계량의 값은 표본추출시마다 달라지며, 다시말해 통계량은 그 자체가 확률변수로 확률분포를 가지게 된다.\n",
    "* 표집분포란 통계량의 확률 분포를 말한다.\n",
    "* 통계량의 분포는 모집단의 분포에 영향을 받으며, 표본의 크기(n)에도 영향을 받음 \n",
    "\n",
    "* 예제 1\n",
    "    * 모집단 : 2, 3, 4 로 이루어진 수로 세 주택의 방의 수\n",
    "    * X 를 각 주택의 방의 수라고 정의하면 X 는 2, 3, 4 중 하나의 값을 가지게 됨\n",
    "    * 세 주택으로 부터 두 주택을 복원 추출하여 표본평균을 구해보자\n",
    "    \n",
    "\n",
    "| ($x_{1}$, $x_{2}$) | (2,2) | (2,3) | (2,4) | (3,2) | (3,3) | (3,4) |(4,2) | (4,3) | (4,4) |\n",
    "| --- | --- | --- | --- | --- | --- | --- | --- | --- | --- |\n",
    "| $$\\bar{x}=\\frac{x_{1}+x_{2}}{2}$$ | 2 | 2.5 | 3 | 2.5 | 3 | 3.5 | 3 | 3.5 | 4 |\n",
    "| 확 률 | 1/9 | 1/9 | 1/9 | 1/9 | 1/9 | 1/9 | 1/9 | 1/9 | 1/9 |\n",
    "\n",
    "* 표본이 취하는 X 의 분포\n",
    "\n",
    "$\\bar{X}$가 취하는 값($\\bar{x}$) | 2 | 2.5 | 3 | 3.5 | 4 | 합계\n",
    "--- | --- | --- | --- | --- | --- | ---\n",
    "$f(\\bar{x})$ | 1/9 | 2/9 | 3/9 | 2/9 | 1/9 | 1\n",
    "\n",
    "* 모집단의 크기가 100개, 200개, 300개 등 크기가 커진다면 복원추출과 비복원추출간의 차이가 거의 없어짐\n",
    "\n",
    "* 표본의 크기가 n 인 경우에 통계량의 표집분포는 어떻게 구할 수 있을까 ?\n",
    "    1. 모든 가능한 표본의 종류를 나열한다.\n",
    "    2. 각 표본에서의 통계량의 값을 구한다.\n",
    "    3. 통계량이 취하는 각 값에 대응되는 확률을 계산한다.\n",
    "    \n",
    "* 이 경우 표본의 크기가 커지면 엄청 많은 연산이 필요하며, 컴퓨터를 이용해서나 계산이 가능\n",
    "* 이를 근사적으로나마 간단히 처리하기 위하여 '중심극한정리' 를 활용하면 간단히 계산 가능"
   ]
  },
  {
   "cell_type": "code",
   "execution_count": 19,
   "metadata": {},
   "outputs": [
    {
     "data": {
      "text/plain": [
       "(0, 4)"
      ]
     },
     "execution_count": 19,
     "metadata": {},
     "output_type": "execute_result"
    },
    {
     "data": {
      "image/png": "[encoded data removed]",
      "text/plain": [
       "<Figure size 432x288 with 1 Axes>"
      ]
     },
     "metadata": {
      "needs_background": "light"
     },
     "output_type": "display_data"
    }
   ],
   "source": [
    "import numpy as np\n",
    "import matplotlib.pyplot as plt\n",
    "\n",
    "plt.rcParams['font.family'] = 'AppleGothic'\n",
    "\n",
    "X = [2, 3, 4]\n",
    "X_BAR = [2, 2.5, 3, 2.5, 3, 3.5, 3, 3.5, 4]\n",
    "bin1 = np.arange(1.75,4.75,0.5)\n",
    "\n",
    "plt.hist(X, bin1, rwidth = 1.0, color = 'green', alpha = 0.5, label = 'x의 도수분포')\n",
    "plt.hist(X_BAR, bin1, rwidth = 0.5, color = 'red', alpha = 0.5, label = 'E(X)의 도수분포')\n",
    "plt.grid()\n",
    "plt.xlabel('Weight (kg)', fontsize = 14)\n",
    "plt.xticks(fontsize = 14)\n",
    "plt.yticks(fontsize = 14)\n",
    "plt.legend(fontsize = 14)\n",
    "plt.ylim([0,4])"
   ]
  },
  {
   "cell_type": "markdown",
   "metadata": {},
   "source": [
    "## 9.3 표본평균의 분포와 중심극한정리\n",
    "\n",
    "* 모집단의 중심을 나타내는 수치로서 가장 많이 사용되는 것이 모평균인데, 이에 대한 추론은 표본의 평균 $\\bar{X}$ 와 그 분포를 이용한다.\n",
    "* 이에 표본평균의 표집분포에 대해 살펴보는것이 이 절의 과제\n",
    "\n",
    "* 평균이 µ 이고 분산이 $\\sigma^2$ 인 모집단으로 부터 크기가 n 인 표본 $X_{1},..., X_{n}$ 을 추출하였을때 표본평균 $\\bar{X}$ 의 기댓값과 분산은\n",
    "    * $E(\\bar{X}) = \\frac{1}{n}[E(X_{1})+...+E(X_{n})] = \\mu = (모집단의 기댓값)$\n",
    "        * $E(X_{1})$ 은 $X_{1}$ 이 나올 기대값이므로 모집단의 기대값과 같음. 따라서 $\\mu$ 가 됨\n",
    "    * $Var(\\bar{X}) = \\frac{1}{n^2}[Var(X_{1})+...+Var(X_{n})] = \\frac{\\mu^2}{n} = (\\frac{모집단의분산}{표본의크기})$\n",
    "        * $Var(X_{1})$ 은 $X_{1}$ 의 분산으로 모집단의 분산과 같음. 따라서 $\\sigma^2$ 가 됨\n",
    "    * $sd(\\bar{X}) = \\sqrt{Var(X)} = \\frac {\\sigma}{\\sqrt n} = (\\frac{모집단의표준편차}{\\sqrt {표본의크기}})$\n",
    "    \n",
    "* 참고1 (기대값의 연산법칙)\n",
    "    * 아래에서 X, Y 각각은 확률변수를, 그리고 a, b는 상수(정수 혹은 소수 혹은 분수)를 나타낸다고 가정할때\n",
    "    * 상수의 기댓값은 상수 자체이다 $E(a) = a$\n",
    "    * 확률변수 X에 일정한 배수 a를 곱한 확률변수의 기댓값은 본래의 확률변수 X의 기댓값에 a를 곱한 값과 같다. $E(aX) = aE(X)$\n",
    "    * 확률변수 X와 Y의 합의 기댓값은 각각의 기댓값의 합과 같다. $E(X + Y) = E(X) + E(Y)$\n",
    "    * 위의 두 법칙으로부터 다음 식이 성립한다. $E(aX + bY) = aE(X) + bE(Y)$\n",
    "\n",
    "* 참고2 (분산의 연산법칙)\n",
    "    * 아래에서 X, Y 각각은 확률변수를, 그리고 a, b는 상수(정수 혹은 소수 혹은 분수)를 나타낸다고 가정할때\n",
    "    * 상수 a의 분산은 0이다. $Var(a) = 0$\n",
    "    * 확률변수 X에 일정한 배수 a를 곱한 확률변수의 분산은 본래의 확률변수 X의 분산에 a2을 곱한 것과 같다. $Var(aX) = a^2Var(X)$\n",
    "    * 두 확률변수 X와 Y의 합의 분산은 각각의 분산에 둘 사이의 공분산을 두 배 하여 더한 것과 같다. $Var(X+Y) = Var(X)+Var(Y)+2Cov(X,Y) = σ_{X}^2+σ_{Y}^2+2σ_{XY}^2$\n",
    "    * 위의 두 관계를 이용하면 다음의 관계가 성립한다. $Var(aX+bY) = a^2Var(X)+b^2Var(Y)+2abCov(X,Y)$\n",
    "    * X 와 Y 가 독립인 경우 공분산은 0\n",
    "\n",
    "\n",
    "\n",
    "![n증가에따른분포변화1](./images/s9-1.gif)\n",
    "![n증가에따른분포변화2](./images/s9-2.png)\n",
    "![n증가에따른분포변화-비대칭](./images/s9-3.png)\n",
    "![n증가에따른분포변화-샘플](./images/s9-4.png)\n"
   ]
  },
  {
   "cell_type": "markdown",
   "metadata": {},
   "source": [
    "* n차 적률(moment)이란 ? \n",
    "    * 수학적인 정의로는 함수의 모양을 나타냄\n",
    "    * 물리학적 의미로는 질량(0), 질량중심(1), 관성모멘트(2)\n",
    "    * 통계학적 의미로는 평균(0), 분산(2), 왜도(3), 척도(4) 를 나타냄\n",
    "* 적률의 이해 : https://www.youtube.com/watch?v=JEO0NW6_53E\n",
    "\n",
    "* 중심극한정리 설명\n",
    "    * https://www.youtube.com/watch?v=dNXJhWbHbaM&list=PLmljWRabIwWBxh8V6eIODIz--B802mdLt&index=9\n",
    "    * 테일러급수 : https://www.youtube.com/watch?v=P5PuvGLm1i0&list=PLmljWRabIwWBxh8V6eIODIz--B802mdLt&index=10\n",
    "    * 적률생성함수 : https://www.youtube.com/watch?v=gubleOnA5ys&list=PLmljWRabIwWBxh8V6eIODIz--B802mdLt&index=11\n",
    "* 중심극한정리 증명 (테일러급수, 적률생성함수 활용)\n",
    "    * https://www.youtube.com/watch?v=zeGDlTMHnFk&list=PLmljWRabIwWBxh8V6eIODIz--B802mdLt&index=12\n",
    "    * https://www.youtube.com/watch?v=TnEiJvtwcjU&list=PLmljWRabIwWBxh8V6eIODIz--B802mdLt&index=13\n",
    "    * https://www.youtube.com/watch?v=m9C477aDElA&list=PLmljWRabIwWBxh8V6eIODIz--B802mdLt&index=14"
   ]
  },
  {
   "cell_type": "markdown",
   "metadata": {},
   "source": [
    "* 예제 2\n",
    "    * 예제 1 에서 $\\mu$ 와 $\\sigma^2$ 를 구하고 $\\bar{X}$ 의 기댓값과 분산을 계산하여 $E(\\bar{X}) = \\mu, Var(\\bar{X}) = \\sigma^2 / n, sd(\\bar{X}) = \\sigma / \\sqrt n$ 이 되는지 확인\n",
    "    * 기대값과 분산의 관계에서 $E(X) = \\sum xf(x)$, $E(X^2) = \\sum x^2f(x)$\n",
    "    * 분산과 기대값의 관계는 $Var(X) = E[(X-\\mu)^2] = E(X^2) - \\mu^2$\n",
    "- 모집단의 분포\n",
    "\n",
    "| $x$ | $$f(x)$$ | $$xf(x)$$ | $$x^2f(x)$$ |\n",
    "| ----- | ----- | ----- | ----- |\n",
    "| 2 | 1/3 | 2/3 | 4/3 |\n",
    "| 3 | 1/3 | 3/3 | 9/3 |\n",
    "| 4 | 1/3 | 4/3 | 16/3 |\n",
    "| 합계 | 1 | 9/3 | 29/3 |\n",
    "\n",
    "위 식을 이용하여 계산하면...\n",
    "$\\mu = 9/3 = 3, \\sigma^2 = 29/3 - 3^2 = 2/3, \\sigma = \\sqrt {\\frac {2} {3}}$\n",
    "\n",
    "- 표본평균 $\\bar{X}$ 의 분포\n",
    "\n",
    "| $x$ | $$f(x)$$ | $$xf(x)$$ | $$x^2f(x)$$ |\n",
    "| ----- | ----- | ----- | ----- |\n",
    "| 2 | 1/9 | 2/9 | 4/9 |\n",
    "| 2.5 | 2/9 | 5/9 | 12.5/9 |\n",
    "| 3 | 3/9 | 9/9 | 27/9 |\n",
    "| 3.5 | 2/9 | 7/9 | 24.5/9 |\n",
    "| 4 | 1/9 | 4/9 | 16/9 |\n",
    "| 합계 | 1 | 27/9 | 84/9 |\n",
    "    \n",
    "위 식을 이용하여 계산하면...\n",
    "$E(\\bar{X}) = 27/9 = 3 = \\mu, Var(\\bar{X}) = 84/9 - 3^2 = 1/3 = \\sigma^2/2, sd(\\bar{X}) = \\sqrt {\\frac {1}{3}} = \\frac{\\sigma}{\\sqrt 2}$\n",
    "    \n",
    "* 이렇게 예제를 풀어봄으로써 위 식이 만족함을 알 수 있음\n",
    "\n",
    "* 정규모집단에서의 표본평균 $\\bar{X}$ 의 분포는 정규분포이다.\n",
    "    * 모평균이 $\\mu$ 이고 모표준편차가 $\\sigma$ 인 정규모집단에서 n 개의 표본을 임의로 추출할때 그 표본의 평균 $\\bar{X}$ 의 분포는 평균이 $\\mu$, 표준편차는 $\\frac{\\sigma}{\\sqrt n}$ 인 정규분포이다.\n",
    "    * 모집단이 정규분포가 아닌 경우, $\\bar{X}$ 의 분포는 모집단의 분포에 따라 다르게 나타나지만 표본의 크기 n 이 큰 경우에는 모집단의 분포와 무관하게 근사적으로 정규분포를 따르게 된다.\n",
    "    \n",
    "    \n",
    "* 중심극한정리\n",
    "    * 모집단의 평균이 $\\mu$ 이고 분산이 $\\sigma^2$ 일때 임의추출된 표본의 표본평균 $\\bar{X}$ 는 표본의 크기 n 이 큰 경우 (보통 30 이상) 근사적으로 정규분포를 따르게 되며 그 평균은 $\\mu$, 표준편차는 $\\frac{\\sigma}{\\sqrt n}$ 가 된다.\n",
    "    * 이를 표준화 하여 나타내면...\n",
    "    $$ Z = \\frac {\\bar{X} - \\mu} {\\sigma / \\sqrt n} \\sim N(0, 1) $$"
   ]
  },
  {
   "cell_type": "markdown",
   "metadata": {},
   "source": [
    "* 예제 3 ($\\bar{X}$ 의 확률을 중심극한정리를 이용하여 Z 의 확률로 변경하여 정규분포표를 이용하여 풀이)\n",
    "    * 평균 82 이고, 분산이 144 인 모집단에 대해서...\n",
    "    * 크기가 64 인 표본이 임의 추출되었다고 할때 표본평균이 80.8 에서 83.2 사이에 있을 확률은 ?\n",
    "        * 위에서 배운 중심극한정리에 의해 표본평균 $\\bar{X}$ 의 분포는 근사적으로 $N(82, \\frac {144} {n})$ 을 따름\n",
    "        * 표본의 크기가 64 이므로 144/64 = 9/4 가 되고 위 식의 형태로 쓰면 $N(82, (\\frac{3}{2})^2)$\n",
    "        * $P[80.8 <= \\bar{X} <= 83.2] = P[\\frac{80.8-82}{3/2} <= \\frac{\\bar{X}-82}{3/2} <= \\frac{83.2-82}{3/2}]$\n",
    "        = $P[-0.8 <= Z <= 0.8] = 0.7881 - 0.2119 = 0.5762$\n",
    "    * 크기가 100 인 표본이 임의 추출되었다고 할때 표본평균이 80.8 에서 83.2 사이에 있을 확률은 ?\n",
    "        * 위에서 배운 중심극한정리에 의해 표본평균 $\\bar{X}$ 의 분포는 근사적으로 $N(82, \\frac {144} {n})$ 을 따름\n",
    "        * 표본의 크기가 64 이므로 144/100 = 36/25 가 되고 위 식의 형태로 쓰면 $N(82, (\\frac{6}{5})^2)$\n",
    "        * $P[80.8 <= \\bar{X} <= 83.2] = P[\\frac{80.8-82}{6/5} <= \\frac{\\bar{X}-82}{6/5} <= \\frac{83.2-82}{6/5}]$\n",
    "        = $P[-1.0 <= Z <= 1.0] = 0.8413 - 0.1587 = 0.6826$\n",
    "        \n",
    "* 예제 3의 결과를 보았을때 n 이 클 수록 모평균 주변에 속할 확률이 커지는 것을 알 수 있음\n",
    "\n",
    "* 표본평균에 대한 확률은 표본의 크기가 충분히 큰 경우에는 표준정규분포표를 이용하여 구할 수 있음을 확인했으며, 표본의 크기는 정규분포인 경우 1이어도 되지만 그렇지 않은경우 대게 30 이상인 경우 만족스런 근사치를 얻을 수 있다."
   ]
  },
  {
   "cell_type": "markdown",
   "metadata": {},
   "source": [
    "## 파이썬 분석 따라하기\n",
    "\n",
    "#### 0에서 9까지 10개의 정수값을 균등하게 갖는 모집단 (이산균등분포)\n",
    "#### 여기서 크기가 5인 표본을 100회 뽑아서 매번 추출된 표본에서 표본평균을 구하고 그 평균들을 가지고 히스토그램을 그려라"
   ]
  },
  {
   "cell_type": "code",
   "execution_count": 61,
   "metadata": {},
   "outputs": [
    {
     "name": "stdout",
     "output_type": "stream",
     "text": [
      "a : [ 5 79 64 16  1]\n",
      "b : [76 71  6 25 50]\n",
      "c : [37 12 72  9 75]\n",
      "c1 : [ 5 79 64 16  1]\n",
      "d : [37 12 72  9 75]\n",
      "d1 : [ 5 79 64 16  1]\n"
     ]
    }
   ],
   "source": [
    "# np.random.randint(a, b, size=N): a<=x<b 인 N 개의 임의의 정수 추출\n",
    "# np.random.seed(n): 난수 생성기의 seed number 값을 n 으로 초기화\n",
    "\n",
    "# random 함수는 추출시마다 다른 값을 리턴하지만 동일한 값을 추출하고 싶은 경우 seed 값을 동일하게 주어 처리 가능함\n",
    "\n",
    "import numpy as np\n",
    "\n",
    "a = np.random.randint(0, 100, size=5)\n",
    "b = np.random.randint(0, 100, size=5)\n",
    "\n",
    "np.random.seed(1)\n",
    "c = np.random.randint(0, 100, size=5)\n",
    "c1 = np.random.randint(0, 100, size=5)\n",
    "\n",
    "np.random.seed(1)\n",
    "d = np.random.randint(0, 100, size=5)\n",
    "d1 = np.random.randint(0, 100, size=5)\n",
    "\n",
    "print(\"a :\", a)\n",
    "print(\"b :\", b)\n",
    "print(\"c :\", c)\n",
    "print(\"c1 :\", c1)\n",
    "print(\"d :\", d)\n",
    "print(\"d1 :\", d1)"
   ]
  },
  {
   "cell_type": "code",
   "execution_count": 2,
   "metadata": {},
   "outputs": [
    {
     "name": "stdout",
     "output_type": "stream",
     "text": [
      "[5.2 6.4 4.4 3.  5.  1.8 3.  3.4 5.4 7.8 3.4 4.8 4.8 4.8 6.4 4.8 4.4 6.\n",
      " 2.8 4.8 4.2 4.4 6.8 1.8 6.  4.6 3.2 2.4 2.8 6.2 3.2 6.8 5.8 5.8 4.4 5.\n",
      " 4.4 6.  3.6 4.8 4.8 4.  4.4 5.6 5.2 6.2 1.8 3.8 1.4 6.4 3.8 5.2 4.4 4.4\n",
      " 4.6 0.4 3.  5.8 2.2 4.  4.4 3.6 5.2 1.6 3.2 5.8 6.8 3.8 6.2 2.6 2.  4.8\n",
      " 2.6 6.  7.6 5.6 6.  3.6 4.2 3.8 5.2 3.4 8.2 4.6 6.8 3.8 4.2 3.8 4.6 2.4\n",
      " 4.  4.4 6.  4.4 2.6 3.4 6.  4.6 4.6 2.8]\n"
     ]
    }
   ],
   "source": [
    "##표본 평균 저장\n",
    "# for i in a: 순환 가능한 객체 a 의 첫번째 원소부터 마지막 원소까지 차례로 i 에 대힙하여 반복\n",
    "# range(n): n 은 정수값으로 0 ~ n-1 까지의 값으로 정의된 순환 가능 객체\n",
    "# object[i]: 객체 object 의 i 번째 원소 값\n",
    "\n",
    "import numpy as np\n",
    "\n",
    "m = []\n",
    "\n",
    "np.random.seed(1234)\n",
    "for i in range(100):\n",
    "    sample=np.random.randint(0, 10, size = 5)\n",
    "    m.append(np.mean(sample))\n",
    "m = np.array(m)\n",
    "\n",
    "print(m)"
   ]
  },
  {
   "cell_type": "code",
   "execution_count": 3,
   "metadata": {},
   "outputs": [
    {
     "data": {
      "image/png": "[encoded data removed]",
      "text/plain": [
       "<Figure size 432x288 with 1 Axes>"
      ]
     },
     "metadata": {
      "needs_background": "light"
     },
     "output_type": "display_data"
    }
   ],
   "source": [
    "##히스토그램\n",
    "import matplotlib.pyplot as plt\n",
    "\n",
    "plt.hist(m, bins=7)\n",
    "plt.xlabel('m')\n",
    "plt.ylabel('Frequency')\n",
    "plt.title('Historam of m')\n",
    "plt.show()"
   ]
  },
  {
   "cell_type": "code",
   "execution_count": 4,
   "metadata": {},
   "outputs": [
    {
     "data": {
      "text/plain": [
       "Text(0.5, 1.0, 'Normal Q-Q plot')"
      ]
     },
     "execution_count": 4,
     "metadata": {},
     "output_type": "execute_result"
    },
    {
     "data": {
      "image/png": "[encoded data removed]",
      "text/plain": [
       "<Figure size 432x288 with 1 Axes>"
      ]
     },
     "metadata": {
      "needs_background": "light"
     },
     "output_type": "display_data"
    }
   ],
   "source": [
    "#정규 확률 그림\n",
    "import statsmodels.api as sm\n",
    "import matplotlib.pyplot as plt\n",
    "\n",
    "sm.qqplot(m,line='s')\n",
    "plt.title(\"Normal Q-Q plot\")"
   ]
  },
  {
   "cell_type": "code",
   "execution_count": 10,
   "metadata": {},
   "outputs": [
    {
     "name": "stdout",
     "output_type": "stream",
     "text": [
      "[3.6667 2.1111 2.1111 2.1111 3.4444 2.4444 4.     3.4444 3.     2.7778\n",
      " 3.     2.3333 2.2222 2.2222 2.7778 2.1111 2.6667 2.2222 3.5556 2.4444\n",
      " 3.7778 2.5556 3.6667 3.     4.1111 3.     3.7778 3.3333 3.5556 3.5556\n",
      " 3.3333 2.3333 2.8889 2.8889 2.3333 2.8889 2.2222 2.8889 4.     4.\n",
      " 3.3333 2.2222 2.3333 3.3333 3.4444 2.6667 2.5556 2.6667 2.2222 4.\n",
      " 3.4444 2.7778 3.4444 3.1111 2.4444 2.7778 3.1111 2.2222 2.3333 2.7778\n",
      " 2.8889 3.1111 2.7778 3.1111 1.8889 1.8889 2.     2.8889 2.8889 2.5556\n",
      " 3.1111 3.2222 2.6667 2.6667 2.1111 3.1111 3.7778 2.6667 3.     3.5556\n",
      " 3.3333 3.3333 2.3333 2.7778 2.5556 2.8889 2.6667 3.     3.5556 2.5556\n",
      " 3.6667 2.2222 4.     3.7778 3.     3.2222 3.     2.7778 3.3333 2.5556]\n"
     ]
    },
    {
     "data": {
      "text/plain": [
       "0.5773502691896257"
      ]
     },
     "execution_count": 10,
     "metadata": {},
     "output_type": "execute_result"
    }
   ],
   "source": [
    "##예제4.17\n",
    "# 모집단의 분포를 포아송 분포라고 가정하고 \n",
    "import numpy as np\n",
    "\n",
    "m = []\n",
    "for i in range(100):\n",
    "    np.random.seed(i)\n",
    "    sample=np.random.poisson(lam = 3, size = 9)  # 평균이 3인 난수 9개 생성\n",
    "    m.append(np.mean(sample))\n",
    "\n",
    "m = np.array(m)\n",
    "print (np.round(m,4))\n",
    "\n",
    "np.mean(m)\n",
    "np.std(m)\n",
    "np.sqrt(3)/3"
   ]
  },
  {
   "cell_type": "code",
   "execution_count": 11,
   "metadata": {},
   "outputs": [
    {
     "data": {
      "image/png": "[encoded data removed]",
      "text/plain": [
       "<Figure size 432x288 with 1 Axes>"
      ]
     },
     "metadata": {
      "needs_background": "light"
     },
     "output_type": "display_data"
    },
    {
     "data": {
      "image/png": "[encoded data removed]",
      "text/plain": [
       "<Figure size 432x288 with 1 Axes>"
      ]
     },
     "execution_count": 11,
     "metadata": {},
     "output_type": "execute_result"
    },
    {
     "data": {
      "image/png": "[encoded data removed]",
      "text/plain": [
       "<Figure size 432x288 with 1 Axes>"
      ]
     },
     "metadata": {
      "needs_background": "light"
     },
     "output_type": "display_data"
    }
   ],
   "source": [
    "##히스토그램\n",
    "import matplotlib.pyplot as plt\n",
    "plt.hist(m, bins=7)\n",
    "plt.show()\n",
    "\n",
    "#정규 확률 그림\n",
    "sm.qqplot(m,line='s')"
   ]
  },
  {
   "cell_type": "code",
   "execution_count": null,
   "metadata": {},
   "outputs": [],
   "source": []
  }
 ],
 "metadata": {
  "kernelspec": {
   "display_name": "Python 3",
   "language": "python",
   "name": "python3"
  },
  "language_info": {
   "codemirror_mode": {
    "name": "ipython",
    "version": 3
   },
   "file_extension": ".py",
   "mimetype": "text/x-python",
   "name": "python",
   "nbconvert_exporter": "python",
   "pygments_lexer": "ipython3",
   "version": "3.6.5"
  }
 },
 "nbformat": 4,
 "nbformat_minor": 2
}
