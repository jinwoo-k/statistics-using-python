{
 "cells": [
  {
   "cell_type": "markdown",
   "metadata": {},
   "source": [
    "# 두 변수 자료의 요약\n",
    "* 2, 3 장에서는 하나의 변수에 대한 관측 자료를 도표나 수치로 요약 정리하는 방법에 대해 알아봄\n",
    "* 실제로는 조사 대상으로 부터 둘 또는 그 이상의 변수들을 동시에 관측할때가 많은데 여기서는 두개의 변수에 대한 관측값을 어떻게 도표로 요약하고 해석해야 하는지에 대해 학습할 예정\n",
    "* 알아둘 것\n",
    "    * 분할표\n",
    "    * 산점도\n",
    "    * 상관계수\n",
    "    * 인과관계 (잠재변수)\n",
    "\n",
    "## 두 범주형 변수의 요약 : 분할표\n",
    "    * 두개의 변수를 하나는 왼쪽에, 하나는 위에 표시하여 두 변수의 범주가 교차하는 칸마다 각 변수의 범주를 동시에 갖는 관측값들의 수를 그 칸의 도수로 기록\n",
    "    * 이렇게 도표로 요약된 자료를 분할표 라고 함\n",
    "\n",
    "* 두 변수 자료의 분할표\n",
    "\n",
    "\\ | 찬성 | 미결정 | 반대 | 합계\n",
    "--- | --- | --- | --- | ---\n",
    "남자 | 112 | 36 | 28 | 176\n",
    "여자 | 84 | 68 | 72 | 224\n",
    "합계 | 196 | 104 | 100 | 400\n",
    "\n",
    "* 두 변수 자료의 상대도수 분할표\n",
    "\n",
    "\\ | 찬성 | 미결정 | 반대 | 합계\n",
    "--- | --- | --- | --- | ---\n",
    "남자 | 0.28 | 0.09 | 0.07 | 0.44\n",
    "여자 | 0.21 | 0.17 | 0.18 | 0.56\n",
    "합계 | 0.49 | 0.26 | 0.25 | 1.00\n",
    "\n",
    "    * 상대도수를 이용하면 지지 여부와 성별이 함께 관련된 분포 상태가 좀 더 명확하게 드러남\n",
    "    * 예로, 남자이면서 이 정책에 찬성하는 사람은 전체 400명 중 28% 임을 알 수 있음\n",
    "    \n",
    "* 성별 지지여부에 대한 상대도수 분할표 (남/여의 각각 전체 수로 각 도수를 계산)\n",
    "\n",
    "\\ | 찬성 | 미결정 | 반대 | 합계\n",
    "--- | --- | --- | --- | ---\n",
    "남자 | 0.636 | 0.205 | 0.159 | 1.000\n",
    "여자 | 0.375 | 0.304 | 0.321 | 1.000\n",
    "\n",
    "    * 이렇게 상대도수를 활용하면 남자의 찬성률은 여자의 찬성률 보다 1.7배 높음을 확인 할 수 있음\n",
    "\n",
    "* 실제 자료를 분할표로 요약하는 방법은 위 처럼 다양한 방법이 존재함\n",
    "* 따라서, 목적에 따라 가지고 있는 정보가 잘 드러날 수 있도록 여러 방법을 활용해야 함\n"
   ]
  },
  {
   "cell_type": "markdown",
   "metadata": {},
   "source": [
    "## 4.3 그림을 통한 두 연속형 변수의 요약 : 산점도\n",
    "* 2장에서 하나의 연속형 변수에 대하여 분석할 경우 점도표, 히스토그램 등의 그림을 통하여 자료의 개요를 파악할 수 있는 방법을 학습\n",
    "* 두 변수의 경우에도 그림을 통하여 관계를 파악할 수 있는데 이때 쓰이는 그림을 산점도 라고 함\n",
    "* 두 연속형 변수 (x, y) 가 짝을 이루어 주어졌을때\n",
    "    * 각각의 변수에 관심이 있는 경우 2장에서 배운 한 변수에 대한 분석을 통해 확인 가능\n",
    "    * 두 변수가 서로 관계가 있는지에 대한 확인은 ?\n",
    "    * 두 변수에 대한 관계성을 알기 위해서는 두 변수를 동시에 고려할 필요가 있음\n",
    "* 산점도는 두 변수를 각각 x 축, y 축 으로 설정하고 쌍으로 주어진 값에 따라 좌표상에 표시하여 얻게 되는 그림을 말함\n",
    "* 예제 2\n",
    "    * 아래 그림을 보면 보건의료비 지출비중과 보건비 지출간의 관계가 직선에 가까음\n",
    "    * 한국의 경우 직선의 위쪽에 위치함\n",
    "    * 이를 이용하여 1인당 보건비 지출액이 비슷한 나라들 중에 한국은 GDP 대비 보건의료비 지출비중이 높음을 알 수 있음"
   ]
  },
  {
   "cell_type": "code",
   "execution_count": 15,
   "metadata": {},
   "outputs": [
    {
     "data": {
      "image/png": "[encoded data removed]",
      "text/plain": [
       "<Figure size 432x288 with 1 Axes>"
      ]
     },
     "metadata": {
      "needs_background": "light"
     },
     "output_type": "display_data"
    }
   ],
   "source": [
    "import numpy as np\n",
    "import matplotlib.pyplot as plt\n",
    "\n",
    "plt.rcParams['font.family'] = 'AppleGothic'\n",
    "\n",
    "med_per_gdp_rate = np.array([6.6, 6.5, 12.7, 9.4, 8.7, 8.8, 6.1, 4.3, 1.9, 5.7])\n",
    "med_cost_per_persion = np.array([365, 1538, 2765, 1869, 1511, 2343, 1039, 323, 215, 678])\n",
    "\n",
    "plt.figure()\n",
    "plt.scatter(med_cost_per_persion, med_per_gdp_rate, color ='black')\n",
    "plt.xlabel('보건비 지출')\n",
    "plt.ylabel('GDP 대비 지출비중')\n",
    "plt.title('보건의료비 지출 비중')\n",
    "plt.show()"
   ]
  },
  {
   "cell_type": "markdown",
   "metadata": {},
   "source": [
    "* 예제 3\n",
    "    * 아래 그림을 보면 광고비용을 많이 쓴 회사가 더 많은 제품을 판매함을 확인 가능\n",
    "    * 하지만 그 판매량 증가가 어느정도 이상 광고비를 사용했을때 크게 증가함을 알 수 있음\n",
    "    * 이 산점도로 부터 광고 비용과 판매량은 단순한 직선관계를 가지고 있지 않음을 알 수 있음"
   ]
  },
  {
   "cell_type": "code",
   "execution_count": 16,
   "metadata": {},
   "outputs": [
    {
     "data": {
      "image/png": "[encoded data removed]",
      "text/plain": [
       "<Figure size 432x288 with 1 Axes>"
      ]
     },
     "metadata": {
      "needs_background": "light"
     },
     "output_type": "display_data"
    }
   ],
   "source": [
    "adver_cost = np.array([1.0, 1.6, 2.5, 3.0, 4.0, 4.6, 5.0, 5.7, 6.0, 7.0])\n",
    "sell = np.array([2.5, 2.6, 2.7, 5.0, 5.3, 9.1, 14.8, 17.5, 23.0, 28.0])\n",
    "\n",
    "plt.figure()\n",
    "plt.scatter(adver_cost, sell, color ='black')\n",
    "plt.xlabel('광고비용(억원))')\n",
    "plt.ylabel('판매량')\n",
    "plt.title('광고비용과 판매량의 산점도')\n",
    "plt.show()"
   ]
  },
  {
   "cell_type": "markdown",
   "metadata": {},
   "source": [
    "## 4.4 수치를 통한 두 연속형 변수의 요약 : 상관 계수\n",
    "* 위에서 산점도를 통하여 두 연속형 변수 사이의 관계를 대략적으로 파악할 수 있음\n",
    "* 하지만, 그림을 통해 확인하는 대부분의 방법들이 그러하듯 객관성이 부족함\n",
    "    * 변수의 측정단위 변경을 통한 좌표 간격을 조정 (x 축 또는 y 축의 크기가 커져 패턴이 가려질 수 있음)\n",
    "* 따라서, 이런 부분을 보완하기 위해 수리적으로 파악하는 방법이 존재함\n",
    "* 산점도를 통해 두 변수 사이의 관계를 시각적으로 파악할때 많은 경우에 점들이 띠를 형상하듯 몰려 있음\n",
    "* 이때 띠의 형태는 직선, 곡선 등 여러 형태를 가지는데 여기서 관심 있는 경우는 직선의 형태임\n",
    "* 산점도에서 점들이 얼마나 직선에 가까운가의 정도를 나타내는데 쓰이는 측도를 표본상관계수 라고 하며 r 로 표시\n",
    "\n",
    "\n",
    "* 상관계수 : https://blog.naver.com/mykepzzang/220838509912\n",
    "* 표본상관계수 : http://blog.naver.com/mykepzzang/220929023044\n",
    "\n",
    "\n",
    "* 표본상관계수의 특징\n",
    "    * 표본상관계수 r 은 항상 -1 과 1 사이에 존재함\n",
    "    * 표본상관계수의 절대값의 크기는 직선에 가까운 정도를 나타내며 부호는 직선관계의 방향성을 나타냄\n",
    "        * r > 0 산점도에서 점들이 좌하에서 우상 방향으로 띠를 형성함 (한 변수의 값이 작으면 다른 변수의 값도 작고, 한 변수의 값이 크면 다른 변수의 값은 큰 경향을 가짐, 이러한 경향을 가지므로 기울기는 양수가 됨\n",
    "        * r < 0 산점도에서 점들이 좌상에서 우하 방향으로 띠를 형성함 (한 변수의 값이 작으면 다른 변수의 값은 크고, 한 변수의 값이 크면 다른 변수의 값은 작은 경향을 가짐, 이러한 경향을 가지므로 기울기는 음수가 됨\n",
    "        * r = +1 모든 점이 정확히 기울기가 양수인 직선위에 위치함\n",
    "        * r = -1 모든 점이 정확히 기울기가 음수인 직선위에 위치함\n",
    "    * 또한 표본상관계수의 값이 0에 가까울 수록 두 변수간 직선의 관계가 매우 약함을 의미함\n",
    "    * 표본상관계수에서 각 변수의 단위는 분모와 분자에서 서로 상쇄되어 없어지므로 단위가 다른 여러쌍의 변수에서 직선관계의 정도를 비교할 수 있음"
   ]
  },
  {
   "cell_type": "code",
   "execution_count": 21,
   "metadata": {},
   "outputs": [
    {
     "data": {
      "text/plain": [
       "0.8963933647382663"
      ]
     },
     "execution_count": 21,
     "metadata": {},
     "output_type": "execute_result"
    }
   ],
   "source": [
    "# 예제 4 (책 104 페이지 참조)\n",
    "# 표본상관계수가 1에 가까운 양수 -> 양의 상관관계에 있음\n",
    "# 즉, GDP 대비 보건의료비 지출비중이 많은 국가에서는 1인당 보건비 지출액수도 많음을 나타냄\n",
    "\n",
    "np.corrcoef(med_per_gdp_rate, med_cost_per_persion)[0][1]"
   ]
  },
  {
   "cell_type": "markdown",
   "metadata": {},
   "source": [
    "* 산점도 샘플 1\n",
    "![산점도 샘플 1](./images/s4-1.png)\n",
    "![산점도 샘플 3](./images/s4-3.png)\n",
    "* 위 이미지처럼 분포가 x 축 또는 y 축과 평행한 형태로 직선을 나타내는 경우 상관계수는 0에 가깝게 됨\n",
    "  (한 변수의 증감이 다른 변수에 영향을 주지 않으므로)\n",
    "\n",
    "\n",
    "* 표본상관관계가 잘못 해석될 수 있는 하나의 예 1\n",
    "    * 산점도의 점들이 두개의 군집으로 나뉘어 떨어져 있는 경우\n",
    "    * 이런 자료로 부터 계산된 표본상관계수는 값이 크게 나오기 때문에 직선 관계가 있다고 판단할 수 있다\n",
    "    * 이런 경우는 흔희 하나 이상의 군집에 속하는 자료들이 각각 다른 모집단으로 부터 추출되었을때 발생함\n",
    "    * 아래 그림에서 두 군집을 따로 생각할 경우 각 군집에서 표본상관계수는 0에 가깝게 되므로 각 모집단에서 두 변수간에 상관관계가 거의 없다고 할 수 있음\n",
    "![산점도 샘플 4](./images/s4-4.png)    \n",
    "    \n",
    "\n",
    "* 표본상관관계가 잘못 해석될 수 있는 하나의 예 2\n",
    "    * 모두 0.82 로 동일한 상관계수를 가지는 산점도임\n",
    "![산점도 샘플 2](./images/s4-2.png)\n",
    "* 아래에서도 나오지만 상관계수값에만 의존하지 말고 데이터에 대한 이해나 전문적인 지식, 데이터를 직접 그려서 살펴보는것이 얼마나 중요한지 알 수 있음"
   ]
  },
  {
   "cell_type": "markdown",
   "metadata": {},
   "source": [
    "## 상관관계와 인과관계\n",
    "* 자료 분석시 주의할 것은 큰 상관계수가값이 항상 두 변수 사이의 어떤 인과관계를 의미하지는 않는다는 사실임\n",
    "* 예를들어, 크기가 아주 다른 몇개의 도시에서 매월 발생한 살인사건의 발생건수(x)와 종교집회의 횟수(y)를 조사하여 산점도를 작성하였을시\n",
    "    * 위의 표본상관계수는 +1 에 가까움\n",
    "    * 만일 두 변수 사이에 인과관계가 성립된다면 살인사건의 발생건수를 줄이기 위하여 종교집회의 횟수를 억제하면 된다는 결론을 얻게 됨\n",
    "    * 위 분석에서 간과한 항목으로는 도시주민수로 이 변수는 위의 두 변수의 값이 같은 방향으로 변하도록 작용함\n",
    "    * 따라서, 두 변수간의 높은 상관계수값은 주민의 수에 따른 결과이지 두 변수 사이의 인과관계가 높음을 나타내지는 않음\n",
    "    * 위에서 처럼 주민수와 같은 변수를 잠재변수 라고 한다.\n",
    "* 이처럼 두 변수 사이에 상관관계가 높다는 것은 연관성이 높다는 것이지 이것이 뚜렷한 인과관계를 의미하지 않으므로 이를 명확히 해석하기 위해서는 두 변수사이의 연관성에 대한 이해나 그 분야에 대한 전문적인 해석이 필요함"
   ]
  },
  {
   "cell_type": "markdown",
   "metadata": {},
   "source": [
    "\n"
   ]
  },
  {
   "cell_type": "markdown",
   "metadata": {},
   "source": [
    "## 파이선을 이용한 분석"
   ]
  },
  {
   "cell_type": "code",
   "execution_count": 4,
   "metadata": {},
   "outputs": [],
   "source": [
    "# 테이블에 있는 값을 파이선 코드로 옮길시 같은 순서로 저장해야 이후 상관계수를 구하거나 할때 정상적으로 구해짐\n",
    "height = np.array([181,161,170,160,158,168,162,179,183,178,171,177,163,158,160,160,158,\n",
    "                   173,160,163,167,165,163,173,178,170,167,177,175,169,152,158,160,160,\n",
    "                   159,180,169,162,178,173,173,171,171,170,160,167,168,166,164,173,180])\n",
    "\n",
    "weight = np.array([78,49,52,53,50,57,53,54,71,73,55,73,51,53,65,48,59,\n",
    "                   64,48,53,78,45,56,70,68,59,55,64,59,55,38,45,50,46,\n",
    "                   50,63,71,52,74,52,61,65,68,57,47,48,58,59,55,74,74])"
   ]
  },
  {
   "cell_type": "code",
   "execution_count": 8,
   "metadata": {},
   "outputs": [
    {
     "data": {
      "text/plain": [
       "array([181, 161, 170, 160, 158, 168, 162, 179, 183, 178, 171, 177, 163,\n",
       "       158, 160, 160, 158, 173, 160, 163, 167, 165, 163, 173, 178, 170,\n",
       "       167, 177, 175, 169, 152, 158, 160, 160, 159, 180, 169, 162, 178,\n",
       "       173, 173, 171, 171, 170, 160, 167, 168, 166, 164, 173, 180])"
      ]
     },
     "execution_count": 8,
     "metadata": {},
     "output_type": "execute_result"
    }
   ],
   "source": [
    "height"
   ]
  },
  {
   "cell_type": "code",
   "execution_count": 5,
   "metadata": {},
   "outputs": [
    {
     "data": {
      "text/plain": [
       "0.7362765055636866"
      ]
     },
     "execution_count": 5,
     "metadata": {},
     "output_type": "execute_result"
    }
   ],
   "source": [
    "#calculate the correlation\n",
    "\n",
    "# corrcoef 표본상관 계수를 구하기 위한 함수\n",
    "# corrcoef (x1, x2)[i][j]\n",
    "# x1 : 입력변수1, x2 : 입력변수2, i : i 번째 행, j : j 번째 열 -> 변수의 순번 ?\n",
    "# 두 변수의 표본상관계수는 i=0, j=1 또는 i=1, j=0 \n",
    "np.corrcoef(height,weight)[0][1]"
   ]
  },
  {
   "cell_type": "code",
   "execution_count": 13,
   "metadata": {},
   "outputs": [
    {
     "data": {
      "text/plain": [
       "0.7362765055636866"
      ]
     },
     "execution_count": 13,
     "metadata": {},
     "output_type": "execute_result"
    }
   ],
   "source": [
    "np.corrcoef(height,weight)[1][0]"
   ]
  },
  {
   "cell_type": "code",
   "execution_count": 6,
   "metadata": {},
   "outputs": [
    {
     "data": {
      "image/png": "[encoded data removed]",
      "text/plain": [
       "<Figure size 432x288 with 1 Axes>"
      ]
     },
     "metadata": {
      "needs_background": "light"
     },
     "output_type": "display_data"
    }
   ],
   "source": [
    "#draw the scatter plot\n",
    "\n",
    "import matplotlib.pyplot as plt\n",
    "\n",
    "plt.figure()\n",
    "plt.scatter(height, weight, color ='black')\n",
    "plt.xlabel('height(cm)')\n",
    "plt.ylabel('weight(kg)')\n",
    "plt.title('height(cm) and weight(kg)')\n",
    "plt.show()"
   ]
  },
  {
   "cell_type": "code",
   "execution_count": null,
   "metadata": {},
   "outputs": [],
   "source": []
  }
 ],
 "metadata": {
  "kernelspec": {
   "display_name": "Python 3",
   "language": "python",
   "name": "python3"
  },
  "language_info": {
   "codemirror_mode": {
    "name": "ipython",
    "version": 3
   },
   "file_extension": ".py",
   "mimetype": "text/x-python",
   "name": "python",
   "nbconvert_exporter": "python",
   "pygments_lexer": "ipython3",
   "version": "3.7.2"
  }
 },
 "nbformat": 4,
 "nbformat_minor": 2
}
